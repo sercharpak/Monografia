{
 "cells": [
  {
   "cell_type": "code",
   "execution_count": 1,
   "metadata": {
    "collapsed": false
   },
   "outputs": [
    {
     "name": "stdout",
     "output_type": "stream",
     "text": [
      "Populating the interactive namespace from numpy and matplotlib\n"
     ]
    }
   ],
   "source": [
    "%pylab inline\n",
    "import numpy as np\n",
    "import matplotlib.pyplot as plt"
   ]
  },
  {
   "cell_type": "markdown",
   "metadata": {},
   "source": [
    "##Plotting the general properties of the detected groups\n",
    "####By Sergio Daniel Hernandez Charpak"
   ]
  },
  {
   "cell_type": "code",
   "execution_count": 86,
   "metadata": {
    "collapsed": true
   },
   "outputs": [],
   "source": [
    "inputfolder = '../'\n",
    "input_file_1 = 'group_results_seeds_FA_0.8_Trace_1.0_search_FA_0.9_Trace_0.0.dat'"
   ]
  },
  {
   "cell_type": "code",
   "execution_count": 87,
   "metadata": {
    "collapsed": true
   },
   "outputs": [],
   "source": [
    "#Function to extract the thresholds from a group filename\n",
    "def get_thresholds(filename):\n",
    "    file_Dat = filename.strip('.dat')\n",
    "    file_array = file_Dat.split('_')\n",
    "    thresh_search_FA = float(file_array[9])\n",
    "    thresh_search_Trace = float(file_array[11])\n",
    "    thresh_seeds_FA = float(file_array[4])\n",
    "    thresh_seeds_Trace = float(file_array[6])\n",
    "    return thresh_search_FA, thresh_search_Trace, thresh_seeds_FA, thresh_seeds_Trace"
   ]
  },
  {
   "cell_type": "code",
   "execution_count": 88,
   "metadata": {
    "collapsed": true
   },
   "outputs": [],
   "source": [
    "thresh_search_FA, thresh_search_Trace, thresh_seeds_FA, thresh_seeds_Trace = get_thresholds(input_file_1)"
   ]
  },
  {
   "cell_type": "code",
   "execution_count": 89,
   "metadata": {
    "collapsed": false
   },
   "outputs": [],
   "source": [
    "group_data = np.loadtxt(inputfolder+input_file_1)"
   ]
  },
  {
   "cell_type": "code",
   "execution_count": 90,
   "metadata": {
    "collapsed": false
   },
   "outputs": [],
   "source": [
    "n_groups = len(group_data)"
   ]
  },
  {
   "cell_type": "markdown",
   "metadata": {},
   "source": [
    "<p>The data is in the shape:</p>\n",
    "<p> $\\lambda_a$  |   $\\lambda_b$  |   $\\lambda_c$ | $x_{CM}$ | $y_{CM}$ | $z_{CM}$ | $\\sum \\delta$ | $Vol$ </p>\n",
    "<p>Whith the data: </p>\n",
    "<ul>\n",
    "<li> $\\lambda_a$ $\\lambda_b$ $\\lambda_c$ the 3 eigenvalues of the Inertia Tensor </li>\n",
    "<li> $x_{CM}$ $y_{CM}$ $z_{CM}$ the coordinates of the Center of Mass </li>\n",
    "<li> $\\sum \\delta$ The sum of the overdensity of all the particles in the group </li>\n",
    "<li> $Vol$ The volume of the group in number of cells members of the group </li>\n",
    "</ul>"
   ]
  },
  {
   "cell_type": "code",
   "execution_count": 91,
   "metadata": {
    "collapsed": false
   },
   "outputs": [
    {
     "name": "stdout",
     "output_type": "stream",
     "text": [
      "There are 778 groups\n"
     ]
    }
   ],
   "source": [
    "print \"There are\", n_groups,\"groups\""
   ]
  },
  {
   "cell_type": "markdown",
   "metadata": {},
   "source": [
    "###Volume distribution\n",
    "<p>We want to plot Log10 volume (# cells by group) vs #number of groups with that volume </p>"
   ]
  },
  {
   "cell_type": "code",
   "execution_count": 92,
   "metadata": {
    "collapsed": true
   },
   "outputs": [],
   "source": [
    "volumes = group_data[:,7]"
   ]
  },
  {
   "cell_type": "code",
   "execution_count": 93,
   "metadata": {
    "collapsed": false
   },
   "outputs": [
    {
     "name": "stdout",
     "output_type": "stream",
     "text": [
      "Volume distribution for \n",
      " growth: FA: 0.9 Trace: 0.0\n",
      " seeds: FA: 0.8 Trace: 1.0\n"
     ]
    },
    {
     "data": {
      "text/plain": [
       "<matplotlib.text.Text at 0x7f61c727d410>"
      ]
     },
     "execution_count": 93,
     "metadata": {},
     "output_type": "execute_result"
    },
    {
     "data": {
      "image/png": "[encoded data removed]",
      "text/plain": [
       "<matplotlib.figure.Figure at 0x7f61c72cee90>"
      ]
     },
     "metadata": {},
     "output_type": "display_data"
    }
   ],
   "source": [
    "print \"Volume distribution for \\n growth: FA: \" + str(thresh_search_FA) + \" Trace: \" + str(thresh_search_Trace) +\"\\n seeds: FA: \" + str(thresh_seeds_FA) + \" Trace: \" + str(thresh_seeds_Trace) \n",
    "fig = plt.figure()\n",
    "binwidth=0.5\n",
    "plt.hist(np.log10(volumes), bins=np.arange(min(np.log10(volumes)), max(np.log10(volumes)) + binwidth, binwidth))\n",
    "plt.xlabel('$log_{10}$ of Volume (number of cells) ')\n",
    "plt.ylabel('Number of Groups')\n",
    "plt.grid()\n",
    "plt.title('Distribution of volume (number of cells) \\n for groups with '+str(n_groups) + ' groups')\n",
    "#plt.savefig(\"volumes_distr_+\"str(n_groups)+\".png\",format = 'png')\n",
    "#plt.close(fig)"
   ]
  },
  {
   "cell_type": "markdown",
   "metadata": {},
   "source": [
    "###Inertia Tensor Analysis\n",
    "<p> Analysis of the Different possible shape cases </p>\n",
    "Reference: http://scipython.com/book/chapter-6-numpy/problems/p65/the-moment-of-inertia-tensor/"
   ]
  },
  {
   "cell_type": "code",
   "execution_count": 94,
   "metadata": {
    "collapsed": true
   },
   "outputs": [],
   "source": [
    "#Constants for writting the result of the shape of the respective detected group\n",
    "CASES = []\n",
    "CASE_0 = \"none of the above\"\n",
    "CASES.append(CASE_0)\n",
    "CASE_1 = \"spherical top\"\n",
    "CASES.append(CASE_1)\n",
    "CASE_2 = \"oblate symmetric top\"\n",
    "CASES.append(CASE_2)\n",
    "CASE_3 = \"prolate symmetric top\"\n",
    "CASES.append(CASE_3)\n",
    "CASE_4 = \"asymmetric top\"\n",
    "CASES.append(CASE_4)"
   ]
  },
  {
   "cell_type": "code",
   "execution_count": 95,
   "metadata": {
    "collapsed": true
   },
   "outputs": [],
   "source": [
    "def inertia_tensor_case (I_a, I_b, I_c):\n",
    "    case = 0\n",
    "    #Case 1 Ia=Ib=Ic: spherical top;\n",
    "    if(I_a==I_b==I_c):\n",
    "        case = 1\n",
    "        #print CASE_1\n",
    "        return case\n",
    "    #Case 2 Ia=Ib<Ic: oblate symmetric top;\n",
    "    elif(I_a==I_b < I_c):\n",
    "        case = 2\n",
    "        #print CASE_2\n",
    "        return case\n",
    "    #Case 3 Ia<Ib=Ic: prolate symmetric top;\n",
    "    elif(I_a < I_b == I_c):\n",
    "        case = 3\n",
    "        #print CASE_3\n",
    "        return case\n",
    "    #Case 4 Ia<Ib<Ic: asymmetric top\n",
    "    elif(I_a < I_b < I_c):\n",
    "        case = 4\n",
    "        #print CASE_4\n",
    "        return case\n",
    "    #Case 0 - ?\n",
    "    else:\n",
    "        case = 0\n",
    "        #print CASE_0\n",
    "        return case"
   ]
  },
  {
   "cell_type": "code",
   "execution_count": 96,
   "metadata": {
    "collapsed": true
   },
   "outputs": [],
   "source": [
    "lambdas_a = group_data[:,0]\n",
    "lambdas_b = group_data[:,1]\n",
    "lambdas_c = group_data[:,2]"
   ]
  },
  {
   "cell_type": "code",
   "execution_count": 100,
   "metadata": {
    "collapsed": false
   },
   "outputs": [],
   "source": [
    "inertia_cases = np.zeros(5)\n",
    "cases = np.zeros(n_groups)\n",
    "for i in range(n_groups):\n",
    "    cases [i] = inertia_tensor_case(lambdas_a[i], lambdas_b[i], lambdas_c[i])\n",
    "    inertia_cases[cases [i]] += 1"
   ]
  },
  {
   "cell_type": "code",
   "execution_count": 101,
   "metadata": {
    "collapsed": false
   },
   "outputs": [
    {
     "name": "stdout",
     "output_type": "stream",
     "text": [
      "Inertia Analysis for \n",
      " growth: FA: 0.9 Trace: 0.0\n",
      " seeds: FA: 0.8 Trace: 1.0\n"
     ]
    },
    {
     "data": {
      "text/plain": [
       "<matplotlib.text.Text at 0x7f61c70e6a90>"
      ]
     },
     "execution_count": 101,
     "metadata": {},
     "output_type": "execute_result"
    },
    {
     "data": {
      "image/png": "[encoded data removed]",
      "text/plain": [
       "<matplotlib.figure.Figure at 0x7f61ca212a50>"
      ]
     },
     "metadata": {},
     "output_type": "display_data"
    }
   ],
   "source": [
    "print \"Inertia Analysis for \\n growth: FA: \" + str(thresh_search_FA) + \" Trace: \" + str(thresh_search_Trace) +\"\\n seeds: FA: \" + str(thresh_seeds_FA) + \" Trace: \" + str(thresh_seeds_Trace) \n",
    "fig = plt.figure()\n",
    "#binwidth=0.5\n",
    "#plt.hist(np.log10(volumes), bins=np.arange(min(np.log10(volumes)), max(np.log10(volumes)) + binwidth, binwidth))\n",
    "plt.hist(cases)\n",
    "plt.xlabel('Inertia Case')\n",
    "#plt.tick_params\n",
    "plt.ylabel('Number of Groups')\n",
    "plt.grid()\n",
    "plt.xlim(0,4.1)\n",
    "plt.xticks([0.0,1.0,2.0,3.0,4.0])\n",
    "plt.title('Inertia Cases for groups with '+str(n_groups) + ' groups')\n",
    "#plt.savefig(\"volumes_distr_+\"str(n_groups)+\".png\",format = 'png')\n",
    "#plt.close(fig)"
   ]
  },
  {
   "cell_type": "code",
   "execution_count": 102,
   "metadata": {
    "collapsed": false
   },
   "outputs": [
    {
     "name": "stdout",
     "output_type": "stream",
     "text": [
      "-------------------------------------------\n",
      "Case Case Number Number of occurences\n",
      "none of the above 0 0.0\n",
      "spherical top 1 0.0\n",
      "oblate symmetric top 2 0.0\n",
      "prolate symmetric top 3 0.0\n",
      "asymmetric top 4 778.0\n"
     ]
    }
   ],
   "source": [
    "print \"-------------------------------------------\"\n",
    "print \"Case\", \"Case Number\", \"Number of occurences\"\n",
    "for i in range (len(inertia_cases)):\n",
    "    print str(CASES[i]), str(i), str(inertia_cases[i])"
   ]
  }
 ],
 "metadata": {
  "kernelspec": {
   "display_name": "Python 2",
   "language": "python",
   "name": "python2"
  },
  "language_info": {
   "codemirror_mode": {
    "name": "ipython",
    "version": 2
   },
   "file_extension": ".py",
   "mimetype": "text/x-python",
   "name": "python",
   "nbconvert_exporter": "python",
   "pygments_lexer": "ipython2",
   "version": "2.7.6"
  }
 },
 "nbformat": 4,
 "nbformat_minor": 0
}
