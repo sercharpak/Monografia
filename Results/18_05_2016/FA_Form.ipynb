{
 "cells": [
  {
   "cell_type": "code",
   "execution_count": 1,
   "metadata": {
    "collapsed": false
   },
   "outputs": [
    {
     "name": "stdout",
     "output_type": "stream",
     "text": [
      "Populating the interactive namespace from numpy and matplotlib\n"
     ]
    }
   ],
   "source": [
    "%pylab inline\n",
    "from ast import literal_eval\n",
    "from struct import *\n",
    "import numpy as np\n",
    "import matplotlib.pyplot as plt\n",
    "from pylab import *"
   ]
  },
  {
   "cell_type": "markdown",
   "metadata": {},
   "source": [
    "##FA and Divergence Grids\n",
    "####By Sergio Daniel Hernandez Charpak"
   ]
  },
  {
   "cell_type": "markdown",
   "metadata": {},
   "source": [
    "Notebook to try to interact with the Fractional Anisotropy (FA) grid directly from the CIC files. \n",
    "Here we read the results and plot them."
   ]
  },
  {
   "cell_type": "code",
   "execution_count": 2,
   "metadata": {
    "collapsed": true
   },
   "outputs": [],
   "source": [
    "def writeFirstLine(filename,line):\n",
    "    with open(filename,'r+') as f:\n",
    "        content = f.read()\n",
    "        f.seek(0,0)\n",
    "        f.write(line.rstrip('\\r\\n') + '\\n' + content)\n",
    "def readFirstLine(filename):\n",
    "    with open(filename, 'r') as f:\n",
    "        first_line = f.readline()\n",
    "        return first_line"
   ]
  },
  {
   "cell_type": "markdown",
   "metadata": {},
   "source": [
    "The next function reads the eigenvalues"
   ]
  },
  {
   "cell_type": "code",
   "execution_count": 3,
   "metadata": {
    "collapsed": true
   },
   "outputs": [],
   "source": [
    "def read_CIC_scalar(filename):\n",
    "    f = open(filename, \"rb\")\n",
    "    dumb = f.read(38)\n",
    "\n",
    "    dumb = f.read(4)\n",
    "    n_x = f.read(4)\n",
    "    n_y = f.read(4)\n",
    "    n_z = f.read(4)\n",
    "    nodes = f.read(8)\n",
    "    x0 = f.read(4)\n",
    "    y0 = f.read(4)\n",
    "    z0 = f.read(4)\n",
    "    dx = f.read(4)\n",
    "    dy = f.read(4)\n",
    "    dz = f.read(4)\n",
    "    dumb = f.read(4)\n",
    "\n",
    "    n_x = (unpack('i', n_x))[0]\n",
    "    n_y = (unpack('i', n_y))[0]\n",
    "    n_z = (unpack('i', n_z))[0]\n",
    "    nodes = (unpack('q', nodes))[0]\n",
    "    dx = (unpack('f', dx))[0]\n",
    "    dy = (unpack('f', dy))[0]\n",
    "    dz = (unpack('f', dz))[0]\n",
    "    x0 = (unpack('f', x0))[0]\n",
    "    y0 = (unpack('f', y0))[0]\n",
    "    z0 = (unpack('f', z0))[0]\n",
    "    print n_x, n_y, n_z, nodes, dx, dy, dz\n",
    "\n",
    "    total_nodes = n_x * n_y *n_z\n",
    "    dumb = f.read(4)\n",
    "    array_data = f.read(total_nodes*4)\n",
    "    dumb = f.read(4)\n",
    "    format_s = str(total_nodes)+'f'\n",
    "    array_data = unpack(format_s, array_data)\n",
    "    f.close()\n",
    "    array_data  = np.array(array_data)\n",
    "    array_data.resize(n_z,n_y,n_x)\n",
    "    array_data = array_data.transpose()\n",
    "    return array_data\n",
    "\n",
    "\n",
    "def read_CIC_vector(filename):\n",
    "    f = open(filename, \"rb\")\n",
    "    dumb = f.read(38)\n",
    "\n",
    "    dumb = f.read(4)\n",
    "    n_x = f.read(4)\n",
    "    n_y = f.read(4)\n",
    "    n_z = f.read(4)\n",
    "    nodes = f.read(4)\n",
    "    x0 = f.read(4)\n",
    "    y0 = f.read(4)\n",
    "    z0 = f.read(4)\n",
    "    dx = f.read(4)\n",
    "    dy = f.read(4)\n",
    "    dz = f.read(4)\n",
    "    dumb = f.read(4)\n",
    "\n",
    "    n_x = (unpack('i', n_x))[0]\n",
    "    n_y = (unpack('i', n_y))[0]\n",
    "    n_z = (unpack('i', n_z))[0]\n",
    "    nodes = (unpack('i', nodes))[0]\n",
    "    dx = (unpack('f', dx))[0]\n",
    "    dy = (unpack('f', dy))[0]\n",
    "    dz = (unpack('f', dz))[0]\n",
    "    x0 = (unpack('f', x0))[0]\n",
    "    y0 = (unpack('f', y0))[0]\n",
    "    z0 = (unpack('f', z0))[0]\n",
    "    print n_x, n_y, n_z, nodes, dx, dy, dz\n",
    "\n",
    "    total_nodes = 3 * n_x * n_y *n_z\n",
    "    dumb = f.read(4)\n",
    "    array_data = f.read(total_nodes*4)\n",
    "    dumb = f.read(4)\n",
    "    format_s = str(total_nodes)+'f'\n",
    "    array_data = unpack(format_s, array_data)\n",
    "    f.close()\n",
    "    array_data  = np.array(array_data)\n",
    "    array_data.resize(n_z,n_y,n_x,3)\n",
    "    vec = array_data[0,0,0,:]\n",
    "    vec = array_data[0,0,1,:]\n",
    "    array_data = array_data.transpose()\n",
    "    #final shape is [3,n_x,n_y,n_z]\n",
    "    return array_data\n",
    "\n",
    "\n",
    "#filein=\"/store/04/bolshoi/V-web/clues/256/snap_190.CIC.s1.00.eigenvec_1\"\n",
    "def test_vector_plot():\n",
    "    filein=\"/home/extforer/TV-Web/data/snap_136.s1.00.eigenvec_1\"\n",
    "    eigenvec_1 = read_CIC_vector(filein)\n",
    "\n",
    "    x_component = eigenvec_1[0,:,:,:]\n",
    "    x_component = x_component.flatten()\n",
    "    x_component = np.absolute(x_component)\n",
    "\n",
    "    print x_component.shape\n",
    "    nbins = 20\n",
    "    mu_bins = np.linspace(0.0,1.0,nbins)\n",
    "    \n",
    "    histo_mu_x, mu_x_range = np.histogram(x_component, bins=mu_bins)\n",
    "    histo_mu_x = 1.0*histo_mu_x\n",
    "    \n",
    "    delta_x = 1.0/(1.0*nbins)\n",
    "    histo_mu_x = histo_mu_x/sum(histo_mu_x)/delta_x\n",
    "    print histo_mu_x, mu_x_range\n",
    "\n",
    "\n",
    "    rc('text', usetex=True)\n",
    "    rc('font', family='serif')\n",
    "\n",
    "#plt.plot(mu_x_range[:-1], histo_mu_x, label=\"$e_{3}\\cdot \\hat{x}$\")\n",
    "\n",
    "    plt.plot(histo_mu_x, histo_mu_x, label=\"$e_{3}\\cdot \\hat{x}$\")\n",
    "\n",
    "    ylim([0.8, 1.2])\n",
    "    xlim([0.0, 1.0])\n",
    "    plt.legend(loc='upper left')\n",
    "    plt.xlabel(\"$M_{1500}$\")\n",
    "    plt.ylabel(\"$\\Phi(M_{1500})$ (Mpc$^{-3}$ mag$^{-1}$)\")\n",
    "    plt.savefig('BOX10909_smooth_1.0_align_e3.pdf')\n",
    "\n",
    "\n",
    "def test_FA_plot(file1, file2, file3):\n",
    "    eigenval1  = read_CIC_scalar(file1)\n",
    "    eigenval2  = read_CIC_scalar(file2)\n",
    "    eigenval3  = read_CIC_scalar(file3)\n",
    "\n",
    "    \n",
    "    FA = (eigenval1-eigenval3)**2  + (eigenval2-eigenval3)**2  + (eigenval1-eigenval2)**2 \n",
    "    FA = FA/(eigenval1**2 + eigenval2**2 + eigenval3**2)\n",
    "    FA = np.sqrt(FA)/np.sqrt(3.0)\n",
    "\n",
    "    cut = FA[40,:,:]\n",
    "\n",
    "    plt.imshow(cut.T)\n",
    "    print cut.min(), cut.max()\n",
    "    plt.savefig('test_FA_cut.pdf')"
   ]
  },
  {
   "cell_type": "code",
   "execution_count": 4,
   "metadata": {
    "collapsed": true
   },
   "outputs": [],
   "source": [
    "inputfolder = '../../Outputs/07_04_2016/'\n",
    "inputfile_1 = 'snapshot_005.eigen_1'\n",
    "inputfile_2 = 'snapshot_005.eigen_2'\n",
    "inputfile_3 = 'snapshot_005.eigen_3'"
   ]
  },
  {
   "cell_type": "markdown",
   "metadata": {},
   "source": [
    "Now let us get the three eigenvalues grids"
   ]
  },
  {
   "cell_type": "code",
   "execution_count": 5,
   "metadata": {
    "collapsed": false
   },
   "outputs": [
    {
     "name": "stdout",
     "output_type": "stream",
     "text": [
      "256 256 256 16777216 976.5625 976.5625 976.5625\n",
      "256 256 256 16777216 976.5625 976.5625 976.5625\n",
      "256 256 256 16777216 976.5625 976.5625 976.5625\n"
     ]
    }
   ],
   "source": [
    "grid_1 = read_CIC_scalar(inputfolder+inputfile_1)\n",
    "grid_2 = read_CIC_scalar(inputfolder+inputfile_2)\n",
    "grid_3 = read_CIC_scalar(inputfolder+inputfile_3)"
   ]
  },
  {
   "cell_type": "markdown",
   "metadata": {},
   "source": [
    "<p>These numbers are the grid size, the nuber of nodes, and the scale factors.</p>\n",
    "<p>The scale factor to go to kpc/h is then: 976.5625 </p>"
   ]
  },
  {
   "cell_type": "code",
   "execution_count": 6,
   "metadata": {
    "collapsed": true
   },
   "outputs": [],
   "source": [
    "scale_factor_kpc = 976.5625\n",
    "scale_factor_Mpc = scale_factor_kpc/1000.0"
   ]
  },
  {
   "cell_type": "markdown",
   "metadata": {},
   "source": [
    "Now let us form the FA grid"
   ]
  },
  {
   "cell_type": "code",
   "execution_count": 7,
   "metadata": {
    "collapsed": false
   },
   "outputs": [
    {
     "name": "stderr",
     "output_type": "stream",
     "text": [
      "/usr/local/lib/python2.7/dist-packages/IPython/kernel/__main__.py:2: RuntimeWarning: invalid value encountered in divide\n",
      "  from IPython.kernel.zmq import kernelapp as app\n"
     ]
    }
   ],
   "source": [
    "FA = (grid_1-grid_3)**2  + (grid_2-grid_3)**2  + (grid_1-grid_2)**2 \n",
    "FA = FA/(grid_1**2 + grid_2**2 + grid_3**2)\n",
    "FA = np.sqrt(FA)/np.sqrt(3.0)"
   ]
  },
  {
   "cell_type": "markdown",
   "metadata": {},
   "source": [
    "And the trace grid"
   ]
  },
  {
   "cell_type": "markdown",
   "metadata": {},
   "source": [
    "<p> $\\sum(\\lambda) = \\lambda_1 +\\lambda_2+ \\lambda_3$ </p>\n",
    "<p> $\\sum(\\lambda) = -\\nabla \\cdot \\overrightarrow{V} \\propto \\delta $ </p>"
   ]
  },
  {
   "cell_type": "code",
   "execution_count": 8,
   "metadata": {
    "collapsed": true
   },
   "outputs": [],
   "source": [
    "Trace = grid_1 + grid_2 + grid_3"
   ]
  },
  {
   "cell_type": "code",
   "execution_count": 9,
   "metadata": {
    "collapsed": false
   },
   "outputs": [
    {
     "name": "stdout",
     "output_type": "stream",
     "text": [
      "(256, 256, 256)\n"
     ]
    }
   ],
   "source": [
    "n_x,n_y,n_z = shape(FA)\n",
    "print shape(FA)"
   ]
  },
  {
   "cell_type": "markdown",
   "metadata": {},
   "source": [
    "##Cuts"
   ]
  },
  {
   "cell_type": "markdown",
   "metadata": {},
   "source": [
    "###Units\n",
    "They need to be in Mpc/h"
   ]
  },
  {
   "cell_type": "code",
   "execution_count": 53,
   "metadata": {
    "collapsed": false
   },
   "outputs": [],
   "source": [
    "x_thicks = np.linspace(0, n_x, 5)*scale_factor_Mpc\n",
    "y_thicks = np.linspace(0, n_y, 5)*scale_factor_Mpc"
   ]
  },
  {
   "cell_type": "markdown",
   "metadata": {},
   "source": [
    "###Cut for the FA"
   ]
  },
  {
   "cell_type": "code",
   "execution_count": 54,
   "metadata": {
    "collapsed": false
   },
   "outputs": [
    {
     "name": "stdout",
     "output_type": "stream",
     "text": [
      "min:  0.107134740824  max:  0.999999999983\n"
     ]
    },
    {
     "data": {
      "image/png": "[encoded data removed]",
      "text/plain": [
       "<matplotlib.figure.Figure at 0x7fd39e461bd0>"
      ]
     },
     "metadata": {},
     "output_type": "display_data"
    }
   ],
   "source": [
    "cut_i = 10\n",
    "cut_i_mpc = 10.0*scale_factor_Mpc\n",
    "cut = FA[cut_i,:,:]\n",
    "fig = plt.figure(figsize=(6,6))\n",
    "plt.imshow(cut.T,origin='lower')\n",
    "colorbar(label='FA value')\n",
    "plt.xlabel(\"y [Mpc/h]\", fontsize=16)\n",
    "plt.xticks(x_thicks)\n",
    "plt.yticks(y_thicks)\n",
    "plt.ylabel(\"z [Mpc/h]\", fontsize=16)\n",
    "plt.title('FA cut for x = '+str(cut_i_mpc)+' Mpc/h', fontsize=16)\n",
    "plt.savefig(\"FA_cut_i_10.png\",format = 'png')\n",
    "print \"min: \", cut.min(),\" max: \", cut.max()"
   ]
  },
  {
   "cell_type": "code",
   "execution_count": 55,
   "metadata": {
    "collapsed": true
   },
   "outputs": [],
   "source": [
    "plt.close(fig)"
   ]
  },
  {
   "cell_type": "markdown",
   "metadata": {},
   "source": [
    "###Cut for the Divergence"
   ]
  },
  {
   "cell_type": "code",
   "execution_count": 56,
   "metadata": {
    "collapsed": false
   },
   "outputs": [
    {
     "name": "stdout",
     "output_type": "stream",
     "text": [
      "min:  -3.65349468496  max:  2.85661366582\n"
     ]
    },
    {
     "data": {
      "image/png": "[encoded data removed]",
      "text/plain": [
       "<matplotlib.figure.Figure at 0x7fd39eb7bf10>"
      ]
     },
     "metadata": {},
     "output_type": "display_data"
    }
   ],
   "source": [
    "cut_i = 10\n",
    "cut_i_mpc = 10.0*scale_factor_Mpc\n",
    "cut_trace = Trace[10,:,:]\n",
    "fig = plt.figure(figsize=(6,6))\n",
    "plt.imshow(cut_trace.T, cmap = cm.Greys_r,origin='lower')\n",
    "plt.colorbar(label='VDH')\n",
    "plt.xlabel(\"y [Mpc/h]\", fontsize=16)\n",
    "plt.ylabel(\"z [Mpc/h]\", fontsize=16)\n",
    "plt.xticks(x_thicks)\n",
    "plt.yticks(y_thicks)\n",
    "plt.title('VDH cut for \\n x = '+str(cut_i_mpc)+' Mpc/h', fontsize=16)\n",
    "plt.savefig(\"Trace_cut_i_10.png\",format = 'png')\n",
    "print \"min: \", cut_trace.min(),\" max: \", cut_trace.max()"
   ]
  },
  {
   "cell_type": "code",
   "execution_count": 57,
   "metadata": {
    "collapsed": true
   },
   "outputs": [],
   "source": [
    "plt.close(fig)"
   ]
  },
  {
   "cell_type": "markdown",
   "metadata": {},
   "source": [
    "###Histogram for the FA"
   ]
  },
  {
   "cell_type": "code",
   "execution_count": 14,
   "metadata": {
    "collapsed": true
   },
   "outputs": [],
   "source": [
    "FA_1D = FA.ravel()"
   ]
  },
  {
   "cell_type": "code",
   "execution_count": 15,
   "metadata": {
    "collapsed": false
   },
   "outputs": [
    {
     "name": "stdout",
     "output_type": "stream",
     "text": [
      "(16777216,)\n"
     ]
    }
   ],
   "source": [
    "print FA_1D.shape"
   ]
  },
  {
   "cell_type": "markdown",
   "metadata": {},
   "source": [
    "There are some invalid values (inf). Where the CIC wasn't succesfull (no particles in a cell."
   ]
  },
  {
   "cell_type": "code",
   "execution_count": 9,
   "metadata": {
    "collapsed": true
   },
   "outputs": [],
   "source": [
    "FA_1D = FA_1D[(FA_1D <= 1.0) & (FA_1D>=0.0)]"
   ]
  },
  {
   "cell_type": "code",
   "execution_count": 20,
   "metadata": {
    "collapsed": false
   },
   "outputs": [
    {
     "name": "stdout",
     "output_type": "stream",
     "text": [
      "(16777207,)\n"
     ]
    }
   ],
   "source": [
    "print FA_1D.shape"
   ]
  },
  {
   "cell_type": "code",
   "execution_count": 88,
   "metadata": {
    "collapsed": false
   },
   "outputs": [
    {
     "data": {
      "image/png": "[encoded data removed]",
      "text/plain": [
       "<matplotlib.figure.Figure at 0x7fd305f97310>"
      ]
     },
     "metadata": {},
     "output_type": "display_data"
    }
   ],
   "source": [
    "fig = plt.figure(figsize=(5,5))\n",
    "binwidth=0.01\n",
    "plt.hist(FA_1D, bins=np.arange(min(FA_1D), max(FA_1D) + binwidth, binwidth))\n",
    "plt.gca().set_yscale(\"log\")\n",
    "plt.xlabel('FA',fontsize=18)\n",
    "plt.xlim(0.0,1.0)\n",
    "plt.ylabel('number of cells (log scale)',fontsize=18)\n",
    "plt.title('FA distribution in the simulation ', fontsize=16)\n",
    "plt.savefig(\"FA_hist_sim.png\",format = 'png')"
   ]
  },
  {
   "cell_type": "code",
   "execution_count": 89,
   "metadata": {
    "collapsed": true
   },
   "outputs": [],
   "source": [
    "plt.close(fig)"
   ]
  },
  {
   "cell_type": "markdown",
   "metadata": {},
   "source": [
    "###Histogram for the Overdensity"
   ]
  },
  {
   "cell_type": "code",
   "execution_count": 12,
   "metadata": {
    "collapsed": true
   },
   "outputs": [],
   "source": [
    "Trace_1D = Trace.ravel()"
   ]
  },
  {
   "cell_type": "code",
   "execution_count": 41,
   "metadata": {
    "collapsed": false
   },
   "outputs": [
    {
     "name": "stdout",
     "output_type": "stream",
     "text": [
      "1.5448567867e+16 1.5448567867e+16\n"
     ]
    }
   ],
   "source": [
    "print np.max(Trace), np.max(Trace_1D)"
   ]
  },
  {
   "cell_type": "code",
   "execution_count": 39,
   "metadata": {
    "collapsed": false
   },
   "outputs": [
    {
     "name": "stdout",
     "output_type": "stream",
     "text": [
      "(16777216,)\n"
     ]
    }
   ],
   "source": [
    "print Trace_1D.shape"
   ]
  },
  {
   "cell_type": "markdown",
   "metadata": {},
   "source": [
    "There are some outliers as there where in the FA. These are the result of the CIC and v_web in cells with no particles at all."
   ]
  },
  {
   "cell_type": "code",
   "execution_count": 52,
   "metadata": {
    "collapsed": false
   },
   "outputs": [],
   "source": [
    "Trace_1D = Trace_1D[(FA_1D <= 1.0) & (FA_1D>=0.0)]"
   ]
  },
  {
   "cell_type": "code",
   "execution_count": 53,
   "metadata": {
    "collapsed": false
   },
   "outputs": [
    {
     "name": "stdout",
     "output_type": "stream",
     "text": [
      "(16777207,)\n"
     ]
    }
   ],
   "source": [
    "print Trace_1D.shape"
   ]
  },
  {
   "cell_type": "code",
   "execution_count": 75,
   "metadata": {
    "collapsed": false
   },
   "outputs": [
    {
     "data": {
      "text/plain": [
       "<matplotlib.text.Text at 0x7fd3366f5c10>"
      ]
     },
     "execution_count": 75,
     "metadata": {},
     "output_type": "execute_result"
    },
    {
     "data": {
      "image/png": "[encoded data removed]",
      "text/plain": [
       "<matplotlib.figure.Figure at 0x7fd3367fbf50>"
      ]
     },
     "metadata": {},
     "output_type": "display_data"
    }
   ],
   "source": [
    "fig = plt.figure(figsize=(5,5))\n",
    "big_number = 10.0**(15.0)\n",
    "x_min = -0.7*big_number\n",
    "x_max = 1.2*big_number\n",
    "binwidth=0.1*big_number\n",
    "plt.hist(Trace_1D, bins=np.arange(x_min, x_max + binwidth, binwidth))\n",
    "#plt.hist(Trace_1D)\n",
    "plt.gca().set_yscale(\"log\")\n",
    "#plt.gca().set_xscale(\"log\")\n",
    "plt.xlabel('$\\delta$')\n",
    "plt.xlim(x_min/2,x_max/2)\n",
    "plt.ylabel('number of cells (log scale)')\n",
    "plt.title('$\\delta$ distribution in the simulation ', fontsize=16)\n",
    "#plt.savefig(\"FA_hist_sim.png\",format = 'png')"
   ]
  },
  {
   "cell_type": "code",
   "execution_count": 76,
   "metadata": {
    "collapsed": true
   },
   "outputs": [],
   "source": [
    "plt.close(fig)"
   ]
  },
  {
   "cell_type": "code",
   "execution_count": 13,
   "metadata": {
    "collapsed": false
   },
   "outputs": [],
   "source": [
    "Trace_1D = Trace_1D[(Trace_1D <= 5.0) & (Trace_1D>=-5.0)]"
   ]
  },
  {
   "cell_type": "code",
   "execution_count": 14,
   "metadata": {
    "collapsed": false
   },
   "outputs": [
    {
     "name": "stdout",
     "output_type": "stream",
     "text": [
      "(16777177,)\n"
     ]
    }
   ],
   "source": [
    "print Trace_1D.shape"
   ]
  },
  {
   "cell_type": "code",
   "execution_count": 16,
   "metadata": {
    "collapsed": false
   },
   "outputs": [
    {
     "data": {
      "image/png": "[encoded data removed]",
      "text/plain": [
       "<matplotlib.figure.Figure at 0x7fd39f293e90>"
      ]
     },
     "metadata": {},
     "output_type": "display_data"
    }
   ],
   "source": [
    "fig = plt.figure(figsize=(5,5))\n",
    "x_min = -5.0\n",
    "x_max = 5.0\n",
    "binwidth=0.1\n",
    "plt.hist(Trace_1D, bins=np.arange(x_min, x_max + binwidth, binwidth))\n",
    "#plt.hist(Trace_1D)\n",
    "plt.gca().set_yscale(\"log\")\n",
    "#plt.gca().set_xscale(\"log\")\n",
    "plt.xlabel('Velocity Divergence',fontsize=18)\n",
    "plt.xlim(x_min,x_max)\n",
    "plt.ylabel('number of cells (log scale)',fontsize=18)\n",
    "plt.title('Divergence distribution in the simulation ', fontsize=18)\n",
    "plt.savefig(\"Trace_hist_sim.png\",format = 'png')"
   ]
  },
  {
   "cell_type": "code",
   "execution_count": 17,
   "metadata": {
    "collapsed": true
   },
   "outputs": [],
   "source": [
    "plt.close(fig)"
   ]
  },
  {
   "cell_type": "markdown",
   "metadata": {
    "collapsed": true
   },
   "source": [
    "##A Region Accretion Algorithm"
   ]
  },
  {
   "cell_type": "code",
   "execution_count": 9,
   "metadata": {
    "collapsed": false
   },
   "outputs": [],
   "source": [
    "n_grid = n_x-1 # the size of box -1, the maximum index\n",
    "results = np.zeros(shape(FA)) #preps the results matrix\n",
    "thresh_FA = 0.8\n",
    "thresh_Trace = 0.0\n",
    "thresh_FA_seeds = 0.6\n",
    "thresh_Trace_seeds = 1.0"
   ]
  },
  {
   "cell_type": "markdown",
   "metadata": {},
   "source": [
    "<p> $\\sum(\\lambda) = -\\nabla \\cdot \\overrightarrow{V} \\propto \\delta $ </p>"
   ]
  },
  {
   "cell_type": "code",
   "execution_count": 10,
   "metadata": {
    "collapsed": true
   },
   "outputs": [],
   "source": [
    "#Needs to pick the seeds. "
   ]
  },
  {
   "cell_type": "code",
   "execution_count": 11,
   "metadata": {
    "collapsed": true
   },
   "outputs": [],
   "source": [
    "seed_list = []"
   ]
  },
  {
   "cell_type": "code",
   "execution_count": 12,
   "metadata": {
    "collapsed": false
   },
   "outputs": [],
   "source": [
    "counter = 0\n",
    "for i in range (n_x):\n",
    "    for j in range (n_y): \n",
    "        for k in range (n_z):\n",
    "            if((FA[i,j,k]<thresh_FA_seeds ) & (Trace[i,j,k]>thresh_Trace_seeds)):\n",
    "                counter +=1\n",
    "                #print Trace[i,j,k]\n",
    "                results[i,j,k] = counter\n",
    "                seed_list.append([i,j,k])"
   ]
  },
  {
   "cell_type": "code",
   "execution_count": 13,
   "metadata": {
    "collapsed": false
   },
   "outputs": [
    {
     "name": "stdout",
     "output_type": "stream",
     "text": [
      "129\n"
     ]
    }
   ],
   "source": [
    "print counter"
   ]
  },
  {
   "cell_type": "code",
   "execution_count": 14,
   "metadata": {
    "collapsed": true
   },
   "outputs": [],
   "source": [
    "#Predicate to be part of the group\n",
    "def predicate(i,j,k, seed_FA):\n",
    "    if(results[i,j,k]>=1):\n",
    "        #It has already been evaluated\n",
    "        #There is no need to re-evaluate the cell\n",
    "        return False\n",
    "    #elif( (FA[i,j,k]>=seed_FA) & (FA[i,j,k] <= thresh_FA) ):\n",
    "    #elif( (FA[i,j,k] <= thresh_FA) ):\n",
    "    elif( (FA[i,j,k] <= thresh_FA) & (Trace[i,j,k] >= thresh_Trace)):\n",
    "    #elif((Trace[i,j,k] >= thresh_Trace)):\n",
    "        #It validates the predicate\n",
    "        return True\n",
    "    else:\n",
    "        #It fails the predicate\n",
    "        return False"
   ]
  },
  {
   "cell_type": "code",
   "execution_count": 15,
   "metadata": {
    "collapsed": false
   },
   "outputs": [],
   "source": [
    "#The algorithm, it evaluates the special cases\n",
    "def region_accretion_4_neigboors(i,j,k):\n",
    "    present_FA = FA[i,j,k]\n",
    "    present_region = results[i,j,k]\n",
    "    #Finds if it is on the border of the grid\n",
    "    case = 0\n",
    "    #Cases\n",
    "    if(i==0):\n",
    "        case+=1\n",
    "    if(j==0):\n",
    "        case+=2\n",
    "    if(k==0):\n",
    "        case+=4\n",
    "    if(i==n_grid):\n",
    "        case+=8\n",
    "    if(j==n_grid):\n",
    "        case+=16\n",
    "    if(k==n_grid):\n",
    "        case+=32\n",
    "    #General case\n",
    "    if(case==0):\n",
    "        if(predicate(i+1,j,k,present_FA)):\n",
    "            results[i+1,j,k] = present_region\n",
    "            region_accretion_4_neigboors(i+1,j,k)\n",
    "        if(predicate(i,j+1,k,present_FA)):\n",
    "            results[i,j+1,k] = present_region\n",
    "            region_accretion_4_neigboors(i,j+1,k)\n",
    "        if(predicate(i,j,k+1,present_FA)):\n",
    "            results[i,j,k+1] = present_region\n",
    "            region_accretion_4_neigboors(i,j,k+1)\n",
    "        if(predicate(i,j-1,k,present_FA)):\n",
    "            results[i,j-1,k] = present_region\n",
    "            region_accretion_4_neigboors(i,j-1,k)\n",
    "        if(predicate(i,j,k-1,present_FA)):\n",
    "            results[i,j,k-1] = present_region\n",
    "            region_accretion_4_neigboors(i,j,k-1)\n",
    "        if(predicate(i-1,j,k,present_FA)):\n",
    "            results[i-1,j,k] = present_region\n",
    "            region_accretion_4_neigboors(i-1,j,k)\n",
    "    #Special cases\n",
    "    elif(case==1):\n",
    "        #face in i=0 # not a border or a corner\n",
    "        if(predicate(i+1,j,k,present_FA)):\n",
    "            results[i+1,j,k] = present_region\n",
    "            region_accretion_4_neigboors(i+1,j,k)\n",
    "        if(predicate(i,j+1,k,present_FA)):\n",
    "            results[i,j+1,k] = present_region\n",
    "            region_accretion_4_neigboors(i,j+1,k)\n",
    "        if(predicate(i,j,k+1,present_FA)):\n",
    "            results[i,j,k+1] = present_region\n",
    "            region_accretion_4_neigboors(i,j,k+1)\n",
    "        if(predicate(i,j-1,k,present_FA)):\n",
    "            results[i,j-1,k] = present_region\n",
    "            region_accretion_4_neigboors(i,j-1,k)\n",
    "        if(predicate(i,j,k-1,present_FA)):\n",
    "            results[i,j,k-1] = present_region\n",
    "            region_accretion_4_neigboors(i,j,k-1)\n",
    "    \n",
    "    elif(case==2):\n",
    "        #face in j=0 # not a border or a corner\n",
    "        if(predicate(i,j+1,k,present_FA)):\n",
    "            results[i,j+1,k] = present_region\n",
    "            region_accretion_4_neigboors(i,j+1,k)\n",
    "        if(predicate(i+1,j,k,present_FA)):\n",
    "            results[i+1,j,k] = present_region\n",
    "            region_accretion_4_neigboors(i+1,j,k)\n",
    "        if(predicate(i,j,k+1,present_FA)):\n",
    "            results[i,j,k+1] = present_region\n",
    "            region_accretion_4_neigboors(i,j,k+1)\n",
    "        if(predicate(i-1,j,k,present_FA)):\n",
    "            results[i-1,j,k] = present_region\n",
    "            region_accretion_4_neigboors(i-1,j,k)\n",
    "        if(predicate(i,j,k-1,present_FA)):\n",
    "            results[i,j,k-1] = present_region\n",
    "            region_accretion_4_neigboors(i,j,k-1)\n",
    "    \n",
    "    elif(case==3):\n",
    "        #border at i=0 & j=0 # not a corner \n",
    "        if(predicate(i,j+1,k,present_FA)):\n",
    "            results[i,j+1,k] = present_region\n",
    "            region_accretion_4_neigboors(i,j+1,k)\n",
    "        if(predicate(i+1,j,k,present_FA)):\n",
    "            results[i+1,j,k] = present_region\n",
    "            region_accretion_4_neigboors(i+1,j,k)\n",
    "        if(predicate(i,j,k+1,present_FA)):\n",
    "            results[i,j,k+1] = present_region\n",
    "            region_accretion_4_neigboors(i,j,k+1)\n",
    "        if(predicate(i,j,k-1,present_FA)):\n",
    "            results[i,j,k-1] = present_region\n",
    "            region_accretion_4_neigboors(i,j,k-1)\n",
    "    \n",
    "    elif(case==4):\n",
    "        #face in k=0 # not a border or a corner\n",
    "        if(predicate(i,j+1,k,present_FA)):\n",
    "            results[i,j+1,k] = present_region\n",
    "            region_accretion_4_neigboors(i,j+1,k)\n",
    "        if(predicate(i+1,j,k,present_FA)):\n",
    "            results[i+1,j,k] = present_region\n",
    "            region_accretion_4_neigboors(i+1,j,k)\n",
    "        if(predicate(i,j,k+1,present_FA)):\n",
    "            results[i,j,k+1] = present_region\n",
    "            region_accretion_4_neigboors(i,j,k+1)\n",
    "        if(predicate(i-1,j,k,present_FA)):\n",
    "            results[i-1,j,k] = present_region\n",
    "            region_accretion_4_neigboors(i-1,j,k)\n",
    "        if(predicate(i,j-1,k,present_FA)):\n",
    "            results[i,j-1,k] = present_region\n",
    "            region_accretion_4_neigboors(i,j-1,k)\n",
    "    \n",
    "    elif(case==5):\n",
    "        #border at i=0 & k=0 # not a corner\n",
    "        if(predicate(i,j+1,k,present_FA)):\n",
    "            results[i,j+1,k] = present_region\n",
    "            region_accretion_4_neigboors(i,j+1,k)\n",
    "        if(predicate(i+1,j,k,present_FA)):\n",
    "            results[i+1,j,k] = present_region\n",
    "            region_accretion_4_neigboors(i+1,j,k)\n",
    "        if(predicate(i,j,k+1,present_FA)):\n",
    "            results[i,j,k+1] = present_region\n",
    "            region_accretion_4_neigboors(i,j,k+1)\n",
    "        if(predicate(i,j-1,k,present_FA)):\n",
    "            results[i,j-1,k] = present_region\n",
    "            region_accretion_4_neigboors(i,j-1,k)\n",
    "    \n",
    "    elif(case==6):\n",
    "        #border at j=0 & k=0 # not a corner\n",
    "        if(predicate(i,j+1,k,present_FA)):\n",
    "            results[i,j+1,k] = present_region\n",
    "            region_accretion_4_neigboors(i,j+1,k)\n",
    "        if(predicate(i+1,j,k,present_FA)):\n",
    "            results[i+1,j,k] = present_region\n",
    "            region_accretion_4_neigboors(i+1,j,k)\n",
    "        if(predicate(i,j,k+1,present_FA)):\n",
    "            results[i,j,k+1] = present_region\n",
    "            region_accretion_4_neigboors(i,j,k+1)\n",
    "        if(predicate(i-1,j,k,present_FA)):\n",
    "            results[i-1,j,k] = present_region\n",
    "            region_accretion_4_neigboors(i-1,j,k)\n",
    "    \n",
    "    elif(case==7):\n",
    "        #corner at i=0 & j=0 & k=0 \n",
    "        if(predicate(i,j+1,k,present_FA)):\n",
    "            results[i,j+1,k] = present_region\n",
    "            region_accretion_4_neigboors(i,j+1,k)\n",
    "        if(predicate(i+1,j,k,present_FA)):\n",
    "            results[i+1,j,k] = present_region\n",
    "            region_accretion_4_neigboors(i+1,j,k)\n",
    "        if(predicate(i,j,k+1,present_FA)):\n",
    "            results[i,j,k+1] = present_region\n",
    "            region_accretion_4_neigboors(i,j,k+1)\n",
    "    \n",
    "    elif(case==8):\n",
    "        #face in i=n_grid # not a border or a corner\n",
    "        if(predicate(i-1,j,k,present_FA)):\n",
    "            results[i-1,j,k] = present_region\n",
    "            region_accretion_4_neigboors(i-1,j,k)\n",
    "        if(predicate(i,j+1,k,present_FA)):\n",
    "            results[i,j+1,k] = present_region\n",
    "            region_accretion_4_neigboors(i,j+1,k)\n",
    "        if(predicate(i,j,k+1,present_FA)):\n",
    "            results[i,j,k+1] = present_region\n",
    "            region_accretion_4_neigboors(i,j,k+1)\n",
    "        if(predicate(i,j-1,k,present_FA)):\n",
    "            results[i,j-1,k] = present_region\n",
    "            region_accretion_4_neigboors(i,j-1,k)\n",
    "        if(predicate(i,j,k-1,present_FA)):\n",
    "            results[i,j,k-1] = present_region\n",
    "            region_accretion_4_neigboors(i,j,k-1)\n",
    "    \n",
    "    elif(case==10):\n",
    "        #border in i=n_grid & j=0\n",
    "        if(predicate(i,j+1,k,present_FA)):\n",
    "            results[i,j+1,k] = present_region\n",
    "            region_accretion_4_neigboors(i,j+1,k)\n",
    "        if(predicate(i-1,j,k,present_FA)):\n",
    "            results[i-1,j,k] = present_region\n",
    "            region_accretion_4_neigboors(i-1,j,k)\n",
    "        if(predicate(i,j,k+1,present_FA)):\n",
    "            results[i,j,k+1] = present_region\n",
    "            region_accretion_4_neigboors(i,j,k+1)\n",
    "        if(predicate(i,j,k-1,present_FA)):\n",
    "            results[i,j,k-1] = present_region\n",
    "            region_accretion_4_neigboors(i,j,k-1)\n",
    "    \n",
    "    elif(case==12):\n",
    "        #border i=n_grid & k=0\n",
    "        if(predicate(i,j+1,k,present_FA)):\n",
    "            results[i,j+1,k] = present_region\n",
    "            region_accretion_4_neigboors(i,j+1,k)\n",
    "        if(predicate(i-1,j,k,present_FA)):\n",
    "            results[i-1,j,k] = present_region\n",
    "            region_accretion_4_neigboors(i-1,j,k)\n",
    "        if(predicate(i,j,k+1,present_FA)):\n",
    "            results[i,j,k+1] = present_region\n",
    "            region_accretion_4_neigboors(i,j,k+1)\n",
    "        if(predicate(i,j-1,k,present_FA)):\n",
    "            results[i,j-1,k] = present_region\n",
    "            region_accretion_4_neigboors(i,j-1,k) \n",
    "    \n",
    "    elif(case==14):\n",
    "        # corner at i=n_grid & k=0 & j=0\n",
    "        if(predicate(i,j+1,k,present_FA)):\n",
    "            results[i,j+1,k] = present_region\n",
    "            region_accretion_4_neigboors(i,j+1,k)\n",
    "        if(predicate(i-1,j,k,present_FA)):\n",
    "            results[i-1,j,k] = present_region\n",
    "            region_accretion_4_neigboors(i-1,j,k)\n",
    "        if(predicate(i,j,k+1,present_FA)):\n",
    "            results[i,j,k+1] = present_region\n",
    "            region_accretion_4_neigboors(i,j,k+1)\n",
    "    \n",
    "    elif(case==16):\n",
    "        #face in j=n_grid # not a border or a corner\n",
    "        if(predicate(i-1,j,k,present_FA)):\n",
    "            results[i-1,j,k] = present_region\n",
    "            region_accretion_4_neigboors(i-1,j,k)\n",
    "        if(predicate(i+1,j,k,present_FA)):\n",
    "            results[i+1,j,k] = present_region\n",
    "            region_accretion_4_neigboors(i+1,j,k)\n",
    "        if(predicate(i,j,k+1,present_FA)):\n",
    "            results[i,j,k+1] = present_region\n",
    "            region_accretion_4_neigboors(i,j,k+1)\n",
    "        if(predicate(i,j-1,k,present_FA)):\n",
    "            results[i,j-1,k] = present_region\n",
    "            region_accretion_4_neigboors(i,j-1,k)\n",
    "        if(predicate(i,j,k-1,present_FA)):\n",
    "            results[i,j,k-1] = present_region\n",
    "            region_accretion_4_neigboors(i,j,k-1)\n",
    "    \n",
    "    elif(case==17):\n",
    "        #border j=n_grid & i=0\n",
    "        if(predicate(i,j,k-1,present_FA)):\n",
    "            results[i,j,k-1] = present_region\n",
    "            region_accretion_4_neigboors(i,j,k-1)\n",
    "        if(predicate(i+1,j,k,present_FA)):\n",
    "            results[i+1,j,k] = present_region\n",
    "            region_accretion_4_neigboors(i+1,j,k)\n",
    "        if(predicate(i,j,k+1,present_FA)):\n",
    "            results[i,j,k+1] = present_region\n",
    "            region_accretion_4_neigboors(i,j,k+1)\n",
    "        if(predicate(i,j-1,k,present_FA)):\n",
    "            results[i,j-1,k] = present_region\n",
    "            region_accretion_4_neigboors(i,j-1,k)\n",
    "        \n",
    "    elif(case==20):\n",
    "        #border j=n_grid & k=0\n",
    "        if(predicate(i-1,j,k,present_FA)):\n",
    "            results[i-1,j,k] = present_region\n",
    "            region_accretion_4_neigboors(i-1,j,k)\n",
    "        if(predicate(i+1,j,k,present_FA)):\n",
    "            results[i+1,j,k] = present_region\n",
    "            region_accretion_4_neigboors(i+1,j,k)\n",
    "        if(predicate(i,j,k+1,present_FA)):\n",
    "            results[i,j,k+1] = present_region\n",
    "            region_accretion_4_neigboors(i,j,k+1)\n",
    "        if(predicate(i,j-1,k,present_FA)):\n",
    "            results[i,j-1,k] = present_region\n",
    "            region_accretion_4_neigboors(i,j-1,k)\n",
    "    \n",
    "    elif(case==21):\n",
    "        #corner j=n_grid & k=0 & i=0\n",
    "        if(predicate(i,j-1,k,present_FA)):\n",
    "            results[i,j-1,k] = present_region\n",
    "            region_accretion_4_neigboors(i,j-1,k)\n",
    "        if(predicate(i+1,j,k,present_FA)):\n",
    "            results[i+1,j,k] = present_region\n",
    "            region_accretion_4_neigboors(i+1,j,k)\n",
    "        if(predicate(i,j,k+1,present_FA)):\n",
    "            results[i,j,k+1] = present_region\n",
    "            region_accretion_4_neigboors(i,j,k+1)\n",
    "    \n",
    "    elif(case==24):\n",
    "        #border j=n_grid & i=n_grid\n",
    "        if(predicate(i-1,j,k,present_FA)):\n",
    "            results[i-1,j,k] = present_region\n",
    "            region_accretion_4_neigboors(i-1,j,k)\n",
    "        if(predicate(i,j,k-1,present_FA)):\n",
    "            results[i,j,k-1] = present_region\n",
    "            region_accretion_4_neigboors(i,j,k-1)\n",
    "        if(predicate(i,j,k+1,present_FA)):\n",
    "            results[i,j,k+1] = present_region\n",
    "            region_accretion_4_neigboors(i,j,k+1)\n",
    "        if(predicate(i,j-1,k,present_FA)):\n",
    "            results[i,j-1,k] = present_region\n",
    "            region_accretion_4_neigboors(i,j-1,k)\n",
    "    \n",
    "    elif(case==28):\n",
    "        #corner j=n_grid & k=0 & i=n_grid\n",
    "        if(predicate(i,j-1,k,present_FA)):\n",
    "            results[i,j-1,k] = present_region\n",
    "            region_accretion_4_neigboors(i,j-1,k)\n",
    "        if(predicate(i-1,j,k,present_FA)):\n",
    "            results[i-1,j,k] = present_region\n",
    "            region_accretion_4_neigboors(i-1,j,k)\n",
    "        if(predicate(i,j,k+1,present_FA)):\n",
    "            results[i,j,k+1] = present_region\n",
    "            region_accretion_4_neigboors(i,j,k+1)\n",
    "    \n",
    "    elif(case==32):\n",
    "        #face in k=n_grid # not a border or a corner\n",
    "        if(predicate(i-1,j,k,present_FA)):\n",
    "            results[i-1,j,k] = present_region\n",
    "            region_accretion_4_neigboors(i-1,j,k)\n",
    "        if(predicate(i+1,j,k,present_FA)):\n",
    "            results[i+1,j,k] = present_region\n",
    "            region_accretion_4_neigboors(i+1,j,k)\n",
    "        if(predicate(i,j+1,k,present_FA)):\n",
    "            results[i,j+1,k] = present_region\n",
    "            region_accretion_4_neigboors(i,j+1,k)\n",
    "        if(predicate(i,j-1,k,present_FA)):\n",
    "            results[i,j-1,k] = present_region\n",
    "            region_accretion_4_neigboors(i,j-1,k)\n",
    "        if(predicate(i,j,k-1,present_FA)):\n",
    "            results[i,j,k-1] = present_region\n",
    "            region_accretion_4_neigboors(i,j,k-1)\n",
    "    \n",
    "    elif(case==33):\n",
    "        #border k=n_grid & i=0\n",
    "        if(predicate(i,j,k-1,present_FA)):\n",
    "            results[i,j,k-1] = present_region\n",
    "            region_accretion_4_neigboors(i,j,k-1)\n",
    "        if(predicate(i+1,j,k,present_FA)):\n",
    "            results[i+1,j,k] = present_region\n",
    "            region_accretion_4_neigboors(i+1,j,k)\n",
    "        if(predicate(i,j+1,k,present_FA)):\n",
    "            results[i,j+1,k] = present_region\n",
    "            region_accretion_4_neigboors(i,j+1,k)\n",
    "        if(predicate(i,j-1,k,present_FA)):\n",
    "            results[i,j-1,k] = present_region\n",
    "            region_accretion_4_neigboors(i,j-1,k)\n",
    "    \n",
    "    elif(case==34):\n",
    "        #border k=n_grid & j=0\n",
    "        if(predicate(i,j,k-1,present_FA)):\n",
    "            results[i,j,k-1] = present_region\n",
    "            region_accretion_4_neigboors(i,j,k-1)\n",
    "        if(predicate(i+1,j,k,present_FA)):\n",
    "            results[i+1,j,k] = present_region\n",
    "            region_accretion_4_neigboors(i+1,j,k)\n",
    "        if(predicate(i,j+1,k,present_FA)):\n",
    "            results[i,j+1,k] = present_region\n",
    "            region_accretion_4_neigboors(i,j+1,k)\n",
    "        if(predicate(i-1,j,k,present_FA)):\n",
    "            results[i-1,j,k] = present_region\n",
    "            region_accretion_4_neigboors(i-1,j,k)\n",
    "    \n",
    "    elif(case==35):\n",
    "        #corner at k=n_grid & j=0 & i=0\n",
    "        if(predicate(i,j+1,k,present_FA)):\n",
    "            results[i,j+1,k] = present_region\n",
    "            region_accretion_4_neigboors(i,j+1,k)\n",
    "        if(predicate(i+1,j,k,present_FA)):\n",
    "            results[i+1,j,k] = present_region\n",
    "            region_accretion_4_neigboors(i+1,j,k)\n",
    "        if(predicate(i,j,k-1,present_FA)):\n",
    "            results[i,j,k-1] = present_region\n",
    "            region_accretion_4_neigboors(i,j,k-1)\n",
    "    \n",
    "    elif(case==40):\n",
    "        #border k=n_grid & i=n_grid\n",
    "        if(predicate(i,j,k-1,present_FA)):\n",
    "            results[i,j,k-1] = present_region\n",
    "            region_accretion_4_neigboors(i,j,k-1)\n",
    "        if(predicate(i,j-1,k,present_FA)):\n",
    "            results[i,j-1,k] = present_region\n",
    "            region_accretion_4_neigboors(i,j-1,k)\n",
    "        if(predicate(i,j+1,k,present_FA)):\n",
    "            results[i,j+1,k] = present_region\n",
    "            region_accretion_4_neigboors(i,j+1,k)\n",
    "        if(predicate(i-1,j,k,present_FA)):\n",
    "            results[i-1,j,k] = present_region\n",
    "            region_accretion_4_neigboors(i-1,j,k)\n",
    "    \n",
    "    elif(case==42):\n",
    "        #corner at k=n_grid & j=0 & i=n_grid\n",
    "        if(predicate(i,j+1,k,present_FA)):\n",
    "            results[i,j+1,k] = present_region\n",
    "            region_accretion_4_neigboors(i,j+1,k)\n",
    "        if(predicate(i-1,j,k,present_FA)):\n",
    "            results[i-1,j,k] = present_region\n",
    "            region_accretion_4_neigboors(i-1,j,k)\n",
    "        if(predicate(i,j,k-1,present_FA)):\n",
    "            results[i,j,k-1] = present_region\n",
    "            region_accretion_4_neigboors(i,j,k-1)\n",
    "    \n",
    "    elif(case==48):\n",
    "        #border k=n_grid & j=n_grid\n",
    "        if(predicate(i,j,k-1,present_FA)):\n",
    "            results[i,j,k-1] = present_region\n",
    "            region_accretion_4_neigboors(i,j,k-1)\n",
    "        if(predicate(i,j-1,k,present_FA)):\n",
    "            results[i,j-1,k] = present_region\n",
    "            region_accretion_4_neigboors(i,j-1,k)\n",
    "        if(predicate(i+1,j,k,present_FA)):\n",
    "            results[i+1,j,k] = present_region\n",
    "            region_accretion_4_neigboors(i+1,j,k)\n",
    "        if(predicate(i-1,j,k,present_FA)):\n",
    "            results[i-1,j,k] = present_region\n",
    "            region_accretion_4_neigboors(i-1,j,k)\n",
    "    \n",
    "    elif(case==49):\n",
    "        #corner at k=n_grid & j=n_grid & i=0\n",
    "        if(predicate(i,j-1,k,present_FA)):\n",
    "            results[i,j-1,k] = present_region\n",
    "            region_accretion_4_neigboors(i,j-1,k)\n",
    "        if(predicate(i+1,j,k,present_FA)):\n",
    "            results[i+1,j,k] = present_region\n",
    "            region_accretion_4_neigboors(i+1,j,k)\n",
    "        if(predicate(i,j,k-1,present_FA)):\n",
    "            results[i,j,k-1] = present_region\n",
    "            region_accretion_4_neigboors(i,j,k-1)\n",
    "\n",
    "    elif(case==56):\n",
    "        #corner at k=n_grid & j=n_grid & i=n_grid\n",
    "        if(predicate(i,j-1,k,present_FA)):\n",
    "            results[i,j-1,k] = present_region\n",
    "            region_accretion_4_neigboors(i,j-1,k)\n",
    "        if(predicate(i-1,j,k,present_FA)):\n",
    "            results[i-1,j,k] = present_region\n",
    "            region_accretion_4_neigboors(i-1,j,k)\n",
    "        if(predicate(i,j,k-1,present_FA)):\n",
    "            results[i,j,k-1] = present_region\n",
    "            region_accretion_4_neigboors(i,j,k-1)\n",
    "    else:\n",
    "        #it is one of the impossible cases\n",
    "        print \"There is an error for [i,jk]: [\" +str(i)+\",\"+str(j)+\",\"+str(k)+\"]\"\n",
    "        print \"The case encountered was: \"+str(case)"
   ]
  },
  {
   "cell_type": "code",
   "execution_count": 16,
   "metadata": {
    "collapsed": true
   },
   "outputs": [],
   "source": [
    "#Constants for writting the result of the shape of the respective detected group\n",
    "CASES = []\n",
    "CASE_0 = \"none of the above\"\n",
    "CASES.append(CASE_0)\n",
    "CASE_1 = \"spherical top\"\n",
    "CASES.append(CASE_1)\n",
    "CASE_2 = \"oblate symmetric top\"\n",
    "CASES.append(CASE_2)\n",
    "CASE_3 = \"prolate symmetric top\"\n",
    "CASES.append(CASE_3)\n",
    "CASE_4 = \"asymmetric top\"\n",
    "CASES.append(CASE_4)"
   ]
  },
  {
   "cell_type": "code",
   "execution_count": 17,
   "metadata": {
    "collapsed": true
   },
   "outputs": [],
   "source": [
    "n_grid = n_x-1 # the size of box -1, the maximum index\n",
    "#results = np.zeros(shape(FA)) #preps the results matrix\n",
    "thresh_FA = 0.8\n",
    "thresh_Trace = 0.0"
   ]
  },
  {
   "cell_type": "markdown",
   "metadata": {},
   "source": [
    "<p>Setting a higher recursion limit</p>\n",
    "<p>Apparently it is risky to higher it </p>\n",
    "https://docs.python.org/2/library/sys.html#sys.setrecursionlimit"
   ]
  },
  {
   "cell_type": "code",
   "execution_count": 18,
   "metadata": {
    "collapsed": true
   },
   "outputs": [],
   "source": [
    "import sys\n",
    "sys.setrecursionlimit(10000)"
   ]
  },
  {
   "cell_type": "code",
   "execution_count": 19,
   "metadata": {
    "collapsed": false
   },
   "outputs": [],
   "source": [
    "for (i,j,k) in seed_list:\n",
    "    region_accretion_4_neigboors(i,j,k)"
   ]
  },
  {
   "cell_type": "code",
   "execution_count": 20,
   "metadata": {
    "collapsed": false
   },
   "outputs": [
    {
     "name": "stdout",
     "output_type": "stream",
     "text": [
      "[4, 21, 18]\n",
      "[4, 21, 19]\n",
      "[11, 22, 107]\n",
      "[11, 121, 166]\n",
      "[11, 211, 254]\n",
      "[12, 13, 9]\n",
      "[12, 77, 6]\n",
      "[12, 105, 216]\n",
      "[12, 190, 246]\n",
      "[16, 23, 207]\n",
      "[21, 202, 134]\n",
      "[22, 12, 201]\n",
      "[22, 27, 23]\n",
      "[25, 1, 48]\n",
      "[29, 249, 241]\n",
      "[31, 189, 65]\n",
      "[37, 3, 195]\n",
      "[38, 3, 241]\n",
      "[38, 5, 240]\n",
      "[40, 172, 42]\n",
      "[44, 193, 112]\n",
      "[45, 12, 144]\n",
      "[45, 115, 127]\n",
      "[48, 176, 65]\n",
      "[49, 177, 64]\n",
      "[50, 103, 182]\n",
      "[52, 112, 0]\n",
      "[54, 138, 68]\n",
      "[55, 57, 39]\n",
      "[57, 43, 167]\n",
      "[57, 193, 157]\n",
      "[57, 246, 184]\n",
      "[58, 44, 165]\n",
      "[59, 18, 231]\n",
      "[61, 45, 171]\n",
      "[61, 212, 40]\n",
      "[62, 15, 14]\n",
      "[70, 76, 94]\n",
      "[71, 30, 12]\n",
      "[72, 35, 6]\n",
      "[72, 209, 3]\n",
      "[73, 33, 7]\n",
      "[73, 34, 6]\n",
      "[73, 34, 7]\n",
      "[74, 207, 3]\n",
      "[74, 208, 2]\n",
      "[74, 210, 1]\n",
      "[78, 54, 226]\n",
      "[80, 49, 151]\n",
      "[82, 173, 226]\n",
      "[82, 200, 230]\n",
      "[84, 194, 14]\n",
      "[85, 67, 86]\n",
      "[87, 8, 112]\n",
      "[93, 245, 229]\n",
      "[94, 0, 224]\n",
      "[96, 103, 238]\n",
      "[97, 104, 238]\n",
      "[100, 21, 166]\n",
      "[105, 158, 133]\n",
      "[106, 158, 133]\n",
      "[110, 247, 199]\n",
      "[116, 105, 144]\n",
      "[118, 178, 1]\n",
      "[120, 131, 172]\n",
      "[123, 165, 43]\n",
      "[124, 12, 177]\n",
      "[126, 113, 176]\n",
      "[129, 80, 206]\n",
      "[134, 34, 130]\n",
      "[135, 59, 93]\n",
      "[142, 183, 223]\n",
      "[144, 237, 72]\n",
      "[148, 22, 70]\n",
      "[149, 164, 129]\n",
      "[151, 22, 68]\n",
      "[160, 144, 102]\n",
      "[160, 145, 103]\n",
      "[161, 144, 102]\n",
      "[161, 186, 235]\n",
      "[162, 146, 104]\n",
      "[167, 15, 125]\n",
      "[170, 70, 79]\n",
      "[171, 136, 62]\n",
      "[175, 172, 221]\n",
      "[178, 236, 175]\n",
      "[179, 219, 225]\n",
      "[181, 31, 103]\n",
      "[183, 106, 110]\n",
      "[185, 147, 115]\n",
      "[185, 148, 115]\n",
      "[189, 165, 110]\n",
      "[189, 213, 183]\n",
      "[191, 10, 62]\n",
      "[191, 10, 63]\n",
      "[192, 142, 113]\n",
      "[192, 173, 98]\n",
      "[193, 141, 113]\n",
      "[193, 142, 111]\n",
      "[193, 142, 114]\n",
      "[193, 143, 113]\n",
      "[194, 141, 114]\n",
      "[195, 141, 112]\n",
      "[195, 142, 113]\n",
      "[198, 209, 139]\n",
      "[199, 54, 158]\n",
      "[200, 90, 63]\n",
      "[202, 193, 202]\n",
      "[203, 199, 188]\n",
      "[205, 202, 184]\n",
      "[210, 169, 208]\n",
      "[214, 163, 196]\n",
      "[214, 199, 129]\n",
      "[220, 51, 53]\n",
      "[220, 193, 83]\n",
      "[223, 132, 52]\n",
      "[224, 146, 114]\n",
      "[226, 138, 177]\n",
      "[229, 73, 73]\n",
      "[231, 90, 128]\n",
      "[241, 220, 69]\n",
      "[242, 86, 251]\n",
      "[244, 14, 253]\n",
      "[244, 199, 92]\n",
      "[245, 21, 238]\n",
      "[247, 136, 96]\n",
      "[249, 61, 7]\n",
      "[249, 159, 138]\n",
      "[252, 63, 198]\n"
     ]
    }
   ],
   "source": [
    "for m in range(counter):\n",
    "    print seed_list[m]"
   ]
  },
  {
   "cell_type": "code",
   "execution_count": 21,
   "metadata": {
    "collapsed": false
   },
   "outputs": [
    {
     "name": "stderr",
     "output_type": "stream",
     "text": [
      "/usr/local/lib/python2.7/dist-packages/IPython/kernel/__main__.py:18: VisibleDeprecationWarning: using a non-integer number instead of an integer will result in an error in the future\n"
     ]
    }
   ],
   "source": [
    "results_list = []\n",
    "results_x = []\n",
    "results_y = []\n",
    "results_z = []\n",
    "results_group = []\n",
    "volumes = np.zeros(counter+1)\n",
    "counter_results = 0\n",
    "for i in range (n_x):\n",
    "    for j in range (n_y): \n",
    "        for k in range (n_z):\n",
    "            if(results[i,j,k]>0.0):\n",
    "                counter_results+=1\n",
    "                results_list.append([i,j,k])\n",
    "                results_x.append(i)\n",
    "                results_y.append(j)\n",
    "                results_z.append(k)\n",
    "                results_group.append(results[i,j,k])\n",
    "                volumes[results[i,j,k]] += 1"
   ]
  },
  {
   "cell_type": "code",
   "execution_count": 22,
   "metadata": {
    "collapsed": false
   },
   "outputs": [
    {
     "name": "stdout",
     "output_type": "stream",
     "text": [
      "Number of cells in groups: 35392\n",
      "For numbero of seeds: 129\n"
     ]
    }
   ],
   "source": [
    "print \"Number of cells in groups:\", counter_results\n",
    "print \"For numbero of seeds:\", counter"
   ]
  },
  {
   "cell_type": "code",
   "execution_count": 67,
   "metadata": {
    "collapsed": false
   },
   "outputs": [
    {
     "name": "stdout",
     "output_type": "stream",
     "text": [
      "El volumen maximo es: 3761.0\n",
      "Para el grupo: 24\n"
     ]
    },
    {
     "data": {
      "image/png": "[encoded data removed]",
      "text/plain": [
       "<matplotlib.figure.Figure at 0x7fad483d2690>"
      ]
     },
     "metadata": {},
     "output_type": "display_data"
    }
   ],
   "source": [
    "fig = plt.figure()\n",
    "x_axis = np.arange(0, len(volumes))\n",
    "plt.plot(x_axis,volumes)\n",
    "plt.title('Volume (number of cells) \\n for groups with '+str(counter) + ' groups', fontsize=16)\n",
    "plt.xlabel('Group Number')\n",
    "plt.ylabel('Volume (number of cells)')\n",
    "#plt.savefig(\"volumes_plot_\"+str(counter)+\".png\",format = 'png')\n",
    "#plt.close(fig)\n",
    "largest_group = np.argmax(volumes)\n",
    "largest_vol = np.max(volumes)\n",
    "print \"El volumen maximo es:\", largest_vol\n",
    "print \"Para el grupo:\", largest_group"
   ]
  },
  {
   "cell_type": "markdown",
   "metadata": {},
   "source": [
    "Now we form the Tensor Inertia Matrix to analyze the shapes of the detected groups"
   ]
  },
  {
   "cell_type": "code",
   "execution_count": 41,
   "metadata": {
    "collapsed": true
   },
   "outputs": [],
   "source": [
    "def calcultate_inertia_tensor(group_number):\n",
    "    #First we need to find the center of mass (CM)\n",
    "    sum_mx = 0\n",
    "    sum_my = 0\n",
    "    sum_mz = 0\n",
    "    sum_Trace = 0.0\n",
    "    for i in range(counter_results):\n",
    "        if(results_group[i]==group_number):\n",
    "            sum_mx += Trace[results_x[i],results_y[i],results_z[i]] * results_x[i]\n",
    "            sum_my += Trace[results_x[i],results_y[i],results_z[i]] * results_y[i]\n",
    "            sum_mz += Trace[results_x[i],results_y[i],results_z[i]] * results_z[i]\n",
    "            sum_Trace += Trace[results_x[i],results_y[i],results_z[i]]\n",
    "    if (sum_Trace == 0):\n",
    "        #There is no overdensity\n",
    "        print \"The total overdensity of the group \"+ str(group_number)\n",
    "        print sum_Trace\n",
    "        return -10\n",
    "    #We get now the x,y,z of the CM\n",
    "    x_CM = sum_mx / sum_Trace\n",
    "    y_CM = sum_my / sum_Trace\n",
    "    z_CM = sum_mz / sum_Trace\n",
    "    print \"The Center of mass coordinates for group \"+ str(group_number)\n",
    "    print x_CM, y_CM, z_CM\n",
    "    print \"The total overdensity of the group \"+ str(group_number)\n",
    "    print sum_Trace\n",
    "    #We now form the Inertia Tensor for the group\n",
    "    #http://scipython.com/book/chapter-6-numpy/problems/p65/the-moment-of-inertia-tensor/ \n",
    "    #The positions must be relative to their center of mass\n",
    "    sum_xy = 0\n",
    "    sum_yz = 0\n",
    "    sum_zx = 0\n",
    "    sum_x_square = 0\n",
    "    sum_y_square = 0\n",
    "    sum_z_square = 0\n",
    "    for i in range(counter_results):\n",
    "        if(results_group[i]==group_number):\n",
    "            sum_xy += ((np.fabs(results_x[i] - x_CM)) * (np.fabs(results_y[i] - y_CM)))\n",
    "            sum_x_square+=((np.fabs(results_x[i] - x_CM))**2)\n",
    "            sum_yz += ((np.fabs(results_y[i] - y_CM)) * (np.fabs(results_z[i] - z_CM)))\n",
    "            sum_y_square+=((np.fabs(results_y[i] - y_CM))**2)\n",
    "            sum_zx += ((np.fabs(results_z[i] - z_CM))* (np.fabs(results_x[i] - x_CM)))\n",
    "            sum_z_square+=((np.fabs(results_z[i] - z_CM))**2)\n",
    "    I_xx = sum_y_square + sum_z_square\n",
    "    I_yy = sum_x_square + sum_z_square\n",
    "    I_zz = sum_x_square + sum_y_square\n",
    "\n",
    "    I_xy = - sum_xy\n",
    "    I_yz = - sum_yz\n",
    "    I_xz = - sum_zx\n",
    "    I_matrix = np.matrix([[I_xx, I_xy, I_xz], [I_xy, I_yy, I_yz], [I_xz, I_yz, I_zz]])\n",
    "    I_a, I_b, I_c = np.linalg.eigvalsh(I_matrix)\n",
    "    print \"Intertia eigenvalues for group number: \"+ str(group_number)\n",
    "    print I_a, I_b, I_c\n",
    "    case = 0\n",
    "    #Case 1 Ia=Ib=Ic: spherical top;\n",
    "    if(I_a==I_b==I_c):\n",
    "        case = 1\n",
    "        print CASE_1\n",
    "        return case\n",
    "    #Case 2 Ia=Ib<Ic: oblate symmetric top;\n",
    "    elif(I_a==I_b < I_c):\n",
    "        case = 2\n",
    "        print CASE_2\n",
    "        return case\n",
    "    #Case 3 Ia<Ib=Ic: prolate symmetric top;\n",
    "    elif(I_a < I_b == I_c):\n",
    "        case = 3\n",
    "        print CASE_3\n",
    "        return case\n",
    "    #Case 4 Ia<Ib<Ic: asymmetric top\n",
    "    elif(I_a < I_b < I_c):\n",
    "        case = 4\n",
    "        print CASE_4\n",
    "        return case\n",
    "    #Case 0 - ?\n",
    "    else:\n",
    "        case = 0\n",
    "        print CASE_0\n",
    "        return case"
   ]
  },
  {
   "cell_type": "code",
   "execution_count": 43,
   "metadata": {
    "collapsed": false
   },
   "outputs": [
    {
     "name": "stdout",
     "output_type": "stream",
     "text": [
      "The total overdensity of the group 0\n",
      "0.0\n",
      "The Center of mass coordinates for group 1\n",
      "4.61481828514 21.0 18.2614017656\n",
      "The total overdensity of the group 1\n",
      "7.76950258017\n",
      "Intertia eigenvalues for group number: 1\n",
      "0.132551239077 1.22436930956 1.35692054864\n",
      "asymmetric top\n",
      "The Center of mass coordinates for group 2\n",
      "4.0 20.5928365915 19.0\n",
      "The total overdensity of the group 2\n",
      "3.94119663537\n",
      "Intertia eigenvalues for group number: 2\n",
      "0.0 0.51723726543 0.51723726543\n",
      "prolate symmetric top\n",
      "The Center of mass coordinates for group 3\n",
      "11.0360455069 22.1986990443 106.537351192\n",
      "The total overdensity of the group 3\n",
      "5.5927667683\n",
      "Intertia eigenvalues for group number: 3\n",
      "1.12251059297 4.94839761905 5.55202104134\n",
      "asymmetric top\n",
      "The Center of mass coordinates for group 4\n",
      "11.0 121.0 166.465317193\n",
      "The total overdensity of the group 4\n",
      "2.24519771338\n",
      "Intertia eigenvalues for group number: 4\n",
      "0.0 0.502405794143 0.502405794143\n",
      "prolate symmetric top\n",
      "The Center of mass coordinates for group 5\n",
      "12.6245647207 210.245751775 252.935942542\n",
      "The total overdensity of the group 5\n",
      "22.4654739634\n",
      "Intertia eigenvalues for group number: 5\n",
      "18.6676096739 57.34852707 65.1057919929\n",
      "asymmetric top\n",
      "The Center of mass coordinates for group 6\n",
      "12.0 13.0 9.0\n",
      "The total overdensity of the group 6\n",
      "1.03038440645\n",
      "Intertia eigenvalues for group number: 6\n",
      "0.0 0.0 0.0\n",
      "spherical top\n",
      "The Center of mass coordinates for group 7\n",
      "12.0 77.0 6.0\n",
      "The total overdensity of the group 7\n",
      "1.09680857509\n",
      "Intertia eigenvalues for group number: 7\n",
      "0.0 0.0 0.0\n",
      "spherical top\n",
      "The Center of mass coordinates for group 8\n",
      "18.9946680866 115.474518621 208.527374055\n",
      "The total overdensity of the group 8\n",
      "424.540710055\n",
      "Intertia eigenvalues for group number: 8\n",
      "6482.92629847 61846.9887779 62769.3927738\n",
      "asymmetric top\n",
      "The Center of mass coordinates for group 9\n",
      "12.0 190.0 246.0\n",
      "The total overdensity of the group 9\n",
      "1.7612138316\n",
      "Intertia eigenvalues for group number: 9\n",
      "0.0 0.0 0.0\n",
      "spherical top\n",
      "The Center of mass coordinates for group 10\n",
      "15.0767515988 20.9038803816 210.293313499\n",
      "The total overdensity of the group 10\n",
      "79.2846167415\n",
      "Intertia eigenvalues for group number: 10\n",
      "495.719720259 2303.82749308 2473.38629951\n",
      "asymmetric top\n",
      "The Center of mass coordinates for group 11\n",
      "21.0 202.0 134.522852912\n",
      "The total overdensity of the group 11\n",
      "2.52542197332\n",
      "Intertia eigenvalues for group number: 11\n",
      "0.0 0.501044511168 0.501044511168\n",
      "prolate symmetric top\n",
      "The Center of mass coordinates for group 12\n",
      "22.164326523 12.2506057175 200.727253422\n",
      "The total overdensity of the group 12\n",
      "7.84663201217\n",
      "Intertia eigenvalues for group number: 12\n",
      "1.18296096371 6.62494430632 7.1600373913\n",
      "asymmetric top\n",
      "The Center of mass coordinates for group 13\n",
      "22.5101580216 27.0 23.0\n",
      "The total overdensity of the group 13\n",
      "2.62662460282\n",
      "Intertia eigenvalues for group number: 13\n",
      "0.0 0.500206370807 0.500206370807\n",
      "prolate symmetric top\n",
      "The Center of mass coordinates for group 14\n",
      "22.998318391 1.63852820087 47.5469243459\n",
      "The total overdensity of the group 14\n",
      "45.2504684595\n",
      "Intertia eigenvalues for group number: 14\n",
      "114.837808997 1072.8732629 1111.0855885\n",
      "asymmetric top\n",
      "The Center of mass coordinates for group 15\n",
      "25.3812896005 250.892176067 242.110578787\n",
      "The total overdensity of the group 15\n",
      "345.004489766\n",
      "Intertia eigenvalues for group number: 15\n",
      "3395.82703861 15273.7320491 15660.261046\n",
      "asymmetric top\n",
      "The Center of mass coordinates for group 16\n",
      "26.4485008105 188.698703219 66.9234109066\n",
      "The total overdensity of the group 16\n",
      "308.042474735\n",
      "Intertia eigenvalues for group number: 16\n",
      "5602.34454867 55222.9052848 56138.9942102\n",
      "asymmetric top\n",
      "The Center of mass coordinates for group 17\n",
      "40.4745105594 4.3398321495 193.635022328\n",
      "The total overdensity of the group 17\n",
      "557.609062504\n",
      "Intertia eigenvalues for group number: 17\n",
      "7642.34871693 30030.5251782 33019.1195148\n",
      "asymmetric top\n",
      "The Center of mass coordinates for group 18\n",
      "36.0600133156 4.54384838434 246.994990004\n",
      "The total overdensity of the group 18\n",
      "284.387513957\n",
      "Intertia eigenvalues for group number: 18\n",
      "4225.12420484 15307.7544699 16346.8059358\n",
      "asymmetric top\n",
      "The Center of mass coordinates for group 19\n",
      "38.0 5.0 240.0\n",
      "The total overdensity of the group 19\n",
      "1.17640917003\n",
      "Intertia eigenvalues for group number: 19\n",
      "0.0 0.0 0.0\n",
      "spherical top\n",
      "The Center of mass coordinates for group 20\n",
      "40.0 172.0 42.0\n",
      "The total overdensity of the group 20\n",
      "1.0270267874\n",
      "Intertia eigenvalues for group number: 20\n",
      "0.0 0.0 0.0\n",
      "spherical top\n",
      "The Center of mass coordinates for group 21\n",
      "39.2833469834 200.098300648 112.790345188\n",
      "The total overdensity of the group 21\n",
      "432.784758608\n",
      "Intertia eigenvalues for group number: 21\n",
      "10028.4215002 36056.0880335 40002.3233754\n",
      "asymmetric top\n",
      "The Center of mass coordinates for group 22\n",
      "45.0 12.0 144.0\n",
      "The total overdensity of the group 22\n",
      "1.76985038817\n",
      "Intertia eigenvalues for group number: 22\n",
      "0.0 0.0 0.0\n",
      "spherical top\n",
      "The Center of mass coordinates for group 23\n",
      "45.0 115.0 127.0\n",
      "The total overdensity of the group 23\n",
      "1.32755078375\n",
      "Intertia eigenvalues for group number: 23\n",
      "0.0 0.0 0.0\n",
      "spherical top\n",
      "The Center of mass coordinates for group 24\n",
      "54.7605682049 164.272192965 58.0950745699\n",
      "The total overdensity of the group 24\n",
      "1450.04574693\n",
      "Intertia eigenvalues for group number: 24\n",
      "84071.3299944 487183.421885 499882.645989\n",
      "asymmetric top\n",
      "The Center of mass coordinates for group 25\n",
      "49.0 177.0 64.0\n",
      "The total overdensity of the group 25\n",
      "1.05322887562\n",
      "Intertia eigenvalues for group number: 25\n",
      "0.0 0.0 0.0\n",
      "spherical top\n",
      "The Center of mass coordinates for group 26\n",
      "50.0 102.715201648 181.386934653\n",
      "The total overdensity of the group 26\n",
      "10.5359597802\n",
      "Intertia eigenvalues for group number: 26\n",
      "0.112974595264 1.23604497561 1.34901957087\n",
      "asymmetric top\n",
      "The Center of mass coordinates for group 27\n",
      "52.0 112.0 0.0\n",
      "The total overdensity of the group 27\n",
      "1.14931704104\n",
      "Intertia eigenvalues for group number: 27\n",
      "0.0 0.0 0.0\n",
      "spherical top\n",
      "The Center of mass coordinates for group 28\n",
      "52.6129558926 138.31764317 68.1195409839\n",
      "The total overdensity of the group 28\n",
      "89.7367685396\n",
      "Intertia eigenvalues for group number: 28\n",
      "103.462766743 388.454509721 424.546106213\n",
      "asymmetric top\n",
      "The Center of mass coordinates for group 29\n",
      "55.0 57.3544098575 39.0\n",
      "The total overdensity of the group 29\n",
      "3.20447596908\n",
      "Intertia eigenvalues for group number: 29\n",
      "0.0 0.542392979207 0.542392979207\n",
      "prolate symmetric top\n",
      "The Center of mass coordinates for group 30\n",
      "58.6357066013 43.6323963798 169.783253883\n",
      "The total overdensity of the group 30\n",
      "323.619067032\n",
      "Intertia eigenvalues for group number: 30\n",
      "2504.04232102 13067.3814528 13880.541669\n",
      "asymmetric top\n",
      "The Center of mass coordinates for group 31\n",
      "78.0204075444 189.926641138 159.35374402\n",
      "The total overdensity of the group 31\n",
      "1007.4872277\n",
      "Intertia eigenvalues for group number: 31\n",
      "98013.4225859 323018.380565 351801.079261\n",
      "asymmetric top\n",
      "The Center of mass coordinates for group 32\n",
      "58.7271429864 246.707794504 176.739987421\n",
      "The total overdensity of the group 32\n",
      "360.598060609\n",
      "Intertia eigenvalues for group number: 32\n",
      "3976.11880936 25927.8436847 26507.0637049\n",
      "asymmetric top\n",
      "The Center of mass coordinates for group 33\n",
      "58.0 44.0 165.0\n",
      "The total overdensity of the group 33\n",
      "1.03529705107\n",
      "Intertia eigenvalues for group number: 33\n",
      "0.0 0.0 0.0\n",
      "spherical top\n",
      "The Center of mass coordinates for group 34\n",
      "59.0 18.0 231.0\n",
      "The total overdensity of the group 34\n",
      "1.07202520967\n",
      "Intertia eigenvalues for group number: 34\n",
      "0.0 0.0 0.0\n",
      "spherical top\n",
      "The Center of mass coordinates for group 35\n",
      "61.0 45.0 171.0\n",
      "The total overdensity of the group 35\n",
      "1.01590556651\n",
      "Intertia eigenvalues for group number: 35\n",
      "0.0 0.0 0.0\n",
      "spherical top\n",
      "The Center of mass coordinates for group 36\n",
      "60.4764972543 212.690868286 41.4234206601\n",
      "The total overdensity of the group 36\n",
      "23.5470338748\n",
      "Intertia eigenvalues for group number: 36\n",
      "7.51259486642 51.7557462677 54.0519586795\n",
      "asymmetric top\n",
      "The Center of mass coordinates for group 37\n",
      "63.928037295 15.4940012579 12.2742198014\n",
      "The total overdensity of the group 37\n",
      "29.4525320148\n",
      "Intertia eigenvalues for group number: 37\n",
      "21.9235968775 305.458044195 314.050053807\n",
      "asymmetric top\n",
      "The Center of mass coordinates for group 38\n",
      "70.0 76.0 94.0\n",
      "The total overdensity of the group 38\n",
      "1.91562333889\n",
      "Intertia eigenvalues for group number: 38\n",
      "0.0 0.0 0.0\n",
      "spherical top\n",
      "The Center of mass coordinates for group 39\n",
      "72.4764953341 29.5325395942 11.7803467622\n",
      "The total overdensity of the group 39\n",
      "52.7976382666\n",
      "Intertia eigenvalues for group number: 39\n",
      "51.7492274219 247.785655967 260.26671848\n",
      "asymmetric top\n",
      "The Center of mass coordinates for group 40\n",
      "67.0184631878 38.937484274 7.98682097695\n",
      "The total overdensity of the group 40\n",
      "878.759498838\n",
      "Intertia eigenvalues for group number: 40\n",
      "12958.7141487 71619.8802908 74205.1953444\n",
      "asymmetric top\n",
      "The Center of mass coordinates for group 41\n",
      "72.4326853133 208.941101514 2.65806705141\n",
      "The total overdensity of the group 41\n",
      "289.802527282\n",
      "Intertia eigenvalues for group number: 41\n",
      "830.775406201 4342.42500949 4442.12327855\n",
      "asymmetric top\n",
      "The Center of mass coordinates for group 42\n",
      "73.0 33.0 7.0\n",
      "The total overdensity of the group 42\n",
      "1.02540878952\n",
      "Intertia eigenvalues for group number: 42\n",
      "0.0 0.0 0.0\n",
      "spherical top\n",
      "The Center of mass coordinates for group 43\n",
      "73.0 34.0 6.0\n",
      "The total overdensity of the group 43\n",
      "1.02025873959\n",
      "Intertia eigenvalues for group number: 43\n",
      "0.0 0.0 0.0\n",
      "spherical top\n",
      "The Center of mass coordinates for group 44\n",
      "73.0 34.0 7.0\n",
      "The total overdensity of the group 44\n",
      "1.00696414709\n",
      "Intertia eigenvalues for group number: 44\n",
      "0.0 0.0 0.0\n",
      "spherical top\n",
      "The Center of mass coordinates for group 45\n",
      "74.0 207.0 3.0\n",
      "The total overdensity of the group 45\n",
      "1.12901467085\n",
      "Intertia eigenvalues for group number: 45\n",
      "0.0 0.0 0.0\n",
      "spherical top\n",
      "The Center of mass coordinates for group 46\n",
      "74.0 208.0 2.0\n",
      "The total overdensity of the group 46\n",
      "1.02705146372\n",
      "Intertia eigenvalues for group number: 46\n",
      "0.0 0.0 0.0\n",
      "spherical top\n",
      "The Center of mass coordinates for group 47\n",
      "74.0 210.0 1.0\n",
      "The total overdensity of the group 47\n",
      "1.01869484037\n",
      "Intertia eigenvalues for group number: 47\n",
      "0.0 0.0 0.0\n",
      "spherical top\n",
      "The Center of mass coordinates for group 48\n",
      "78.0 54.0 226.0\n",
      "The total overdensity of the group 48\n",
      "1.07968780398\n",
      "Intertia eigenvalues for group number: 48\n",
      "0.0 0.0 0.0\n",
      "spherical top\n",
      "The Center of mass coordinates for group 49\n",
      "80.9824876636 50.2944939732 150.926729603\n",
      "The total overdensity of the group 49\n",
      "53.3503826999\n",
      "Intertia eigenvalues for group number: 49\n",
      "103.718920499 702.432475961 762.095627697\n",
      "asymmetric top\n",
      "The Center of mass coordinates for group 50\n",
      "82.0 173.0 226.0\n",
      "The total overdensity of the group 50\n",
      "1.22235170007\n",
      "Intertia eigenvalues for group number: 50\n",
      "0.0 0.0 0.0\n",
      "spherical top\n",
      "The Center of mass coordinates for group 51\n",
      "82.3664185181 200.436179627 230.725392285\n",
      "The total overdensity of the group 51\n",
      "10.0626857812\n",
      "Intertia eigenvalues for group number: 51\n",
      "0.320598399491 3.93889106749 4.1772402791\n",
      "asymmetric top\n",
      "The Center of mass coordinates for group 52\n",
      "83.7486157916 191.089661802 14.0303961445\n",
      "The total overdensity of the group 52\n",
      "65.8595435561\n",
      "Intertia eigenvalues for group number: 52\n",
      "666.529853196 2227.42364906 2610.99878285\n",
      "asymmetric top\n",
      "The Center of mass coordinates for group 53\n",
      "81.6326309374 67.1680244921 85.575113536\n",
      "The total overdensity of the group 53\n",
      "545.041442777\n",
      "Intertia eigenvalues for group number: 53\n",
      "21142.3488981 77854.4258475 87080.2091734\n",
      "asymmetric top\n",
      "The Center of mass coordinates for group 54\n",
      "95.9255098124 5.39584947713 112.093826394\n",
      "The total overdensity of the group 54\n",
      "256.755297885\n",
      "Intertia eigenvalues for group number: 54\n",
      "3811.85357187 20409.9476848 22713.4748972\n",
      "asymmetric top\n",
      "The Center of mass coordinates for group 55\n",
      "92.5774899749 244.97263335 228.085977323\n",
      "The total overdensity of the group 55\n",
      "95.2023289201\n",
      "Intertia eigenvalues for group number: 55\n",
      "265.692749259 1503.92949075 1530.69991544\n",
      "asymmetric top\n",
      "The Center of mass coordinates for group 56\n",
      "93.5149716586 0.0 223.751036938\n",
      "The total overdensity of the group 56\n",
      "3.31364707835\n",
      "Intertia eigenvalues for group number: 56\n",
      "0.0899234880109 1.3637423169 1.45366580491\n",
      "asymmetric top\n",
      "The Center of mass coordinates for group 57\n",
      "96.0 103.0 238.0\n",
      "The total overdensity of the group 57\n",
      "1.55326662958\n",
      "Intertia eigenvalues for group number: 57\n",
      "0.0 0.0 0.0\n",
      "spherical top\n",
      "The Center of mass coordinates for group 58\n",
      "97.0 104.0 238.0\n",
      "The total overdensity of the group 58\n",
      "1.43488201499\n",
      "Intertia eigenvalues for group number: 58\n",
      "0.0 0.0 0.0\n",
      "spherical top\n",
      "The Center of mass coordinates for group 59\n",
      "102.480816744 23.502643748 165.897532759\n",
      "The total overdensity of the group 59\n",
      "145.582935427\n",
      "Intertia eigenvalues for group number: 59\n",
      "839.879446074 3677.82424049 3831.92180387\n",
      "asymmetric top\n",
      "The Center of mass coordinates for group 60\n",
      "106.648022563 157.509559234 130.876275745\n",
      "The total overdensity of the group 60\n",
      "292.4726638\n",
      "Intertia eigenvalues for group number: 60\n",
      "4578.06217152 15776.8817253 17015.2961324\n",
      "asymmetric top\n",
      "The Center of mass coordinates for group 61\n",
      "106.0 158.0 133.0\n",
      "The total overdensity of the group 61\n",
      "1.23949343711\n",
      "Intertia eigenvalues for group number: 61\n",
      "0.0 0.0 0.0\n",
      "spherical top\n",
      "The Center of mass coordinates for group 62\n",
      "110.0 247.0 199.0\n",
      "The total overdensity of the group 62\n",
      "1.12211361155\n",
      "Intertia eigenvalues for group number: 62\n",
      "0.0 0.0 0.0\n",
      "spherical top\n",
      "The Center of mass coordinates for group 63\n",
      "116.0 105.0 144.0\n",
      "The total overdensity of the group 63\n",
      "1.05783718266\n",
      "Intertia eigenvalues for group number: 63\n",
      "0.0 0.0 0.0\n",
      "spherical top\n",
      "The Center of mass coordinates for group 64\n",
      "118.0 178.0 0.633275841688\n",
      "The total overdensity of the group 64\n",
      "3.86644995213\n",
      "Intertia eigenvalues for group number: 64\n",
      "0.0 0.535524899955 0.535524899955\n",
      "prolate symmetric top\n",
      "The Center of mass coordinates for group 65\n",
      "119.338019036 131.0 172.307005482\n",
      "The total overdensity of the group 65\n",
      "5.22083397582\n",
      "Intertia eigenvalues for group number: 65\n",
      "0.126487576736 1.20899109138 1.33547866811\n",
      "asymmetric top\n",
      "The Center of mass coordinates for group 66\n",
      "123.0 165.0 43.0\n",
      "The total overdensity of the group 66\n",
      "2.72901053727\n",
      "Intertia eigenvalues for group number: 66\n",
      "0.0 0.0 0.0\n",
      "spherical top\n",
      "The Center of mass coordinates for group 67\n",
      "124.0 12.0 177.516387851\n",
      "The total overdensity of the group 67\n",
      "2.6181858927\n",
      "Intertia eigenvalues for group number: 67\n",
      "0.0 0.500537123333 0.500537123333\n",
      "prolate symmetric top\n",
      "The Center of mass coordinates for group 68\n",
      "128.157536746 114.164265554 178.637550932\n",
      "The total overdensity of the group 68\n",
      "117.936892956\n",
      "Intertia eigenvalues for group number: 68\n",
      "636.771083302 2354.9884276 2567.7283466\n",
      "asymmetric top\n",
      "The Center of mass coordinates for group 69\n",
      "126.653214598 85.3919788176 205.116359547\n",
      "The total overdensity of the group 69\n",
      "238.514338901\n",
      "Intertia eigenvalues for group number: 69\n",
      "2979.04284303 12379.320168 14061.8967892\n",
      "asymmetric top\n",
      "The Center of mass coordinates for group 70\n",
      "134.047310082 34.0264830903 128.480100535\n",
      "The total overdensity of the group 70\n",
      "53.6674475678\n",
      "Intertia eigenvalues for group number: 70\n",
      "83.8432020472 277.114475785 289.242453398\n",
      "asymmetric top\n",
      "The Center of mass coordinates for group 71\n",
      "134.381281414 59.0 92.7078212798\n",
      "The total overdensity of the group 71\n",
      "3.08329050243\n",
      "Intertia eigenvalues for group number: 71\n",
      "0.110597195493 1.23471429977 1.34531149527\n",
      "asymmetric top\n",
      "The Center of mass coordinates for group 72\n",
      "142.104101381 184.022458439 222.777145796\n",
      "The total overdensity of the group 72\n",
      "2.79335445911\n",
      "Intertia eigenvalues for group number: 72\n",
      "0.711567002488 5.05680919562 5.35418870444\n",
      "asymmetric top\n",
      "The Center of mass coordinates for group 73\n",
      "145.290497689 234.385410016 76.5092940854\n",
      "The total overdensity of the group 73\n",
      "269.823419809\n",
      "Intertia eigenvalues for group number: 73\n",
      "4640.13426325 18362.4460491 18742.3446083\n",
      "asymmetric top\n",
      "The Center of mass coordinates for group 74\n",
      "150.761358583 21.343587172 69.5947161408\n",
      "The total overdensity of the group 74\n",
      "130.510845911\n",
      "Intertia eigenvalues for group number: 74\n",
      "380.850212176 1916.86610425 2010.0228229\n",
      "asymmetric top\n",
      "The Center of mass coordinates for group 75\n",
      "149.0 164.377658254 128.761993794\n",
      "The total overdensity of the group 75\n",
      "5.02572077885\n",
      "Intertia eigenvalues for group number: 75\n",
      "0.157356617794 1.20913259486 1.36648921266\n",
      "asymmetric top\n",
      "The Center of mass coordinates for group 76\n",
      "151.0 22.0 68.0\n",
      "The total overdensity of the group 76\n",
      "1.07607572526\n",
      "Intertia eigenvalues for group number: 76\n",
      "0.0 0.0 0.0\n",
      "spherical top\n",
      "The Center of mass coordinates for group 77\n",
      "159.477796665 144.788351639 102.51742222\n",
      "The total overdensity of the group 77\n",
      "13.7974635065\n",
      "Intertia eigenvalues for group number: 77\n",
      "0.513898517061 5.33774555581 5.84886108957\n",
      "asymmetric top\n",
      "The Center of mass coordinates for group 78\n",
      "160.338920482 145.0 103.0\n",
      "The total overdensity of the group 78\n",
      "3.1391031146\n",
      "Intertia eigenvalues for group number: 78\n",
      "0.0 0.551893222004 0.551893222004\n",
      "prolate symmetric top\n",
      "The Center of mass coordinates for group 79\n",
      "161.0 144.0 102.0\n",
      "The total overdensity of the group 79\n",
      "1.53892955184\n",
      "Intertia eigenvalues for group number: 79\n",
      "0.0 0.0 0.0\n",
      "spherical top\n",
      "The Center of mass coordinates for group 80\n",
      "159.050037746 177.541681716 241.132830847\n",
      "The total overdensity of the group 80\n",
      "582.104999783\n",
      "Intertia eigenvalues for group number: 80\n",
      "15239.8085707 57948.2586561 61163.2291064\n",
      "asymmetric top\n",
      "The Center of mass coordinates for group 81\n",
      "162.0 146.0 104.0\n",
      "The total overdensity of the group 81\n",
      "1.36525701545\n",
      "Intertia eigenvalues for group number: 81\n",
      "0.0 0.0 0.0\n",
      "spherical top\n",
      "The Center of mass coordinates for group 82\n",
      "172.326682445 12.6838385499 130.650650047\n",
      "The total overdensity of the group 82\n",
      "588.497479173\n",
      "Intertia eigenvalues for group number: 82\n",
      "15670.5833242 79173.1864591 84256.1159578\n",
      "asymmetric top\n",
      "The Center of mass coordinates for group 83\n",
      "169.750821386 69.6606482292 77.1439290153\n",
      "The total overdensity of the group 83\n",
      "111.289179196\n",
      "Intertia eigenvalues for group number: 83\n",
      "608.914902585 3145.12557178 3366.35443803\n",
      "asymmetric top\n",
      "The Center of mass coordinates for group 84\n",
      "171.0 135.825879561 61.6728347934\n",
      "The total overdensity of the group 84\n",
      "2.11512579769\n",
      "Intertia eigenvalues for group number: 84\n",
      "0.2588082534 1.15068545466 1.40949370806\n",
      "asymmetric top\n",
      "The Center of mass coordinates for group 85\n",
      "174.180410158 172.418073312 221.475207484\n",
      "The total overdensity of the group 85\n",
      "70.4182802765\n",
      "Intertia eigenvalues for group number: 85\n",
      "109.221966753 690.532194532 710.982897082\n",
      "asymmetric top\n",
      "The Center of mass coordinates for group 86\n",
      "176.285387386 237.409409518 175.774648247\n",
      "The total overdensity of the group 86\n",
      "69.4678673567\n",
      "Intertia eigenvalues for group number: 86\n",
      "96.6364506894 420.573707052 452.319084025\n",
      "asymmetric top\n",
      "The Center of mass coordinates for group 87\n",
      "179.281815085 217.524837748 225.25206828\n",
      "The total overdensity of the group 87\n",
      "6.40742987787\n",
      "Intertia eigenvalues for group number: 87\n",
      "1.44855900572 21.9302620411 22.5104700736\n",
      "asymmetric top\n",
      "The Center of mass coordinates for group 88\n",
      "175.655749813 32.7572568407 106.123856011\n",
      "The total overdensity of the group 88\n",
      "540.39874797\n",
      "Intertia eigenvalues for group number: 88\n",
      "13601.5521758 51628.4932652 56247.9348272\n",
      "asymmetric top\n",
      "The Center of mass coordinates for group 89\n",
      "187.354101254 102.547167515 115.146067791\n",
      "The total overdensity of the group 89\n",
      "250.340259309\n",
      "Intertia eigenvalues for group number: 89\n",
      "3438.30795582 14279.7968994 14891.2932886\n",
      "asymmetric top\n",
      "The Center of mass coordinates for group 90\n",
      "182.391054959 146.546360665 121.096339579\n",
      "The total overdensity of the group 90\n",
      "590.025651545\n",
      "Intertia eigenvalues for group number: 90\n",
      "15144.9060918 97668.8695675 102375.071135\n",
      "asymmetric top\n",
      "The Center of mass coordinates for group 91\n",
      "185.0 148.0 115.0\n",
      "The total overdensity of the group 91\n",
      "1.05029752851\n",
      "Intertia eigenvalues for group number: 91\n",
      "0.0 0.0 0.0\n",
      "spherical top\n",
      "The Center of mass coordinates for group 92\n",
      "185.729182293 164.942023534 107.944223842\n",
      "The total overdensity of the group 92\n",
      "161.517140528\n",
      "Intertia eigenvalues for group number: 92\n",
      "1851.78857386 10061.6989009 11056.4956089\n",
      "asymmetric top\n",
      "The Center of mass coordinates for group 93\n",
      "189.295517258 218.790357688 178.642678448\n",
      "The total overdensity of the group 93\n",
      "329.903702015\n",
      "Intertia eigenvalues for group number: 93\n",
      "3466.76667879 26510.9536501 27492.3371943\n",
      "asymmetric top\n",
      "The Center of mass coordinates for group 94\n",
      "191.0 10.0 61.6433763237\n",
      "The total overdensity of the group 94\n",
      "2.12971161306\n",
      "Intertia eigenvalues for group number: 94\n",
      "0.0 0.541113540415 0.541113540415\n",
      "prolate symmetric top\n",
      "The Center of mass coordinates for group 95\n",
      "191.0 10.0 63.0\n",
      "The total overdensity of the group 95\n",
      "1.32232001424\n",
      "Intertia eigenvalues for group number: 95\n",
      "0.0 0.0 0.0\n",
      "spherical top\n",
      "The Center of mass coordinates for group 96\n",
      "193.730419084 142.600976871 112.450044982\n",
      "The total overdensity of the group 96\n",
      "245.635306259\n",
      "Intertia eigenvalues for group number: 96\n",
      "2457.28962583 11510.4725758 12389.1651845\n",
      "asymmetric top\n",
      "The Center of mass coordinates for group 97\n",
      "193.301991755 172.833957421 97.3197684653\n",
      "The total overdensity of the group 97\n",
      "53.9204552219\n",
      "Intertia eigenvalues for group number: 97\n",
      "74.2742271744 257.705723659 267.95707641\n",
      "asymmetric top\n",
      "The Center of mass coordinates for group 98\n",
      "193.0 141.0 113.0\n",
      "The total overdensity of the group 98\n",
      "1.04333430529\n",
      "Intertia eigenvalues for group number: 98\n",
      "0.0 0.0 0.0\n",
      "spherical top\n",
      "The Center of mass coordinates for group 99\n",
      "193.0 142.0 111.0\n",
      "The total overdensity of the group 99\n",
      "1.02375015616\n",
      "Intertia eigenvalues for group number: 99\n",
      "0.0 0.0 0.0\n",
      "spherical top\n",
      "The Center of mass coordinates for group 100\n",
      "193.0 142.0 114.0\n",
      "The total overdensity of the group 100\n",
      "1.08960964531\n",
      "Intertia eigenvalues for group number: 100\n",
      "0.0 0.0 0.0\n",
      "spherical top\n",
      "The Center of mass coordinates for group 101\n",
      "193.0 143.0 113.0\n",
      "The total overdensity of the group 101\n",
      "1.07874317467\n",
      "Intertia eigenvalues for group number: 101\n",
      "0.0 0.0 0.0\n",
      "spherical top\n",
      "The Center of mass coordinates for group 102\n",
      "194.0 141.0 114.0\n",
      "The total overdensity of the group 102\n",
      "1.07441432308\n",
      "Intertia eigenvalues for group number: 102\n",
      "0.0 0.0 0.0\n",
      "spherical top\n",
      "The Center of mass coordinates for group 103\n",
      "195.0 141.0 112.0\n",
      "The total overdensity of the group 103\n",
      "1.07016102225\n",
      "Intertia eigenvalues for group number: 103\n",
      "0.0 0.0 0.0\n",
      "spherical top\n",
      "The Center of mass coordinates for group 104\n",
      "195.0 142.0 113.0\n",
      "The total overdensity of the group 104\n",
      "1.05220760405\n",
      "Intertia eigenvalues for group number: 104\n",
      "0.0 0.0 0.0\n",
      "spherical top\n",
      "The Center of mass coordinates for group 105\n",
      "198.0 209.0 138.547656458\n",
      "The total overdensity of the group 105\n",
      "2.78196077049\n",
      "Intertia eigenvalues for group number: 105\n",
      "0.0 0.504542275888 0.504542275888\n",
      "prolate symmetric top\n",
      "The Center of mass coordinates for group 106\n",
      "199.0 54.6861941602 158.388884134\n",
      "The total overdensity of the group 106\n",
      "5.11197002232\n",
      "Intertia eigenvalues for group number: 106\n",
      "0.091197455154 1.25253752149 1.34373497664\n",
      "asymmetric top\n",
      "The Center of mass coordinates for group 107\n",
      "200.0 89.3622908697 63.0\n",
      "The total overdensity of the group 107\n",
      "3.15894460678\n",
      "Intertia eigenvalues for group number: 107\n",
      "0.0 0.537927609141 0.537927609141\n",
      "prolate symmetric top\n",
      "The Center of mass coordinates for group 108\n",
      "195.661226378 191.77696041 198.095655258\n",
      "The total overdensity of the group 108\n",
      "685.873713727\n",
      "Intertia eigenvalues for group number: 108\n",
      "32616.4042112 143054.690233 155298.464667\n",
      "asymmetric top\n",
      "The Center of mass coordinates for group 109\n",
      "197.583135272 204.11473756 186.949027786\n",
      "The total overdensity of the group 109\n",
      "586.609128356\n",
      "Intertia eigenvalues for group number: 109\n",
      "13893.4820652 57945.9953894 61997.6172724\n",
      "asymmetric top\n",
      "The Center of mass coordinates for group 110\n",
      "205.0 202.0 184.0\n",
      "The total overdensity of the group 110\n",
      "1.00798687339\n",
      "Intertia eigenvalues for group number: 110\n",
      "0.0 0.0 0.0\n",
      "spherical top\n",
      "The Center of mass coordinates for group 111\n",
      "208.799547526 165.251913476 208.730830251\n",
      "The total overdensity of the group 111\n",
      "51.5848488846\n",
      "Intertia eigenvalues for group number: 111\n",
      "289.759616737 1651.78350278 1756.88294162\n",
      "asymmetric top\n",
      "The Center of mass coordinates for group 112\n",
      "211.471879217 164.355801825 195.723669466\n",
      "The total overdensity of the group 112\n",
      "69.2833513129\n",
      "Intertia eigenvalues for group number: 112\n",
      "440.95089074 2218.07030041 2280.25467549\n",
      "asymmetric top\n",
      "The Center of mass coordinates for group 113\n",
      "214.0 199.0 129.0\n",
      "The total overdensity of the group 113\n",
      "1.16622173786\n",
      "Intertia eigenvalues for group number: 113\n",
      "0.0 0.0 0.0\n",
      "spherical top\n",
      "The Center of mass coordinates for group 114\n",
      "220.718586915 47.2346849312 51.8805473995\n",
      "The total overdensity of the group 114\n",
      "148.65602761\n",
      "Intertia eigenvalues for group number: 114\n",
      "3746.68384383 18018.4080117 19347.2929886\n",
      "asymmetric top\n",
      "The Center of mass coordinates for group 115\n",
      "220.0 193.0 83.0\n",
      "The total overdensity of the group 115\n",
      "1.34934308752\n",
      "Intertia eigenvalues for group number: 115\n",
      "0.0 0.0 0.0\n",
      "spherical top\n",
      "The Center of mass coordinates for group 116\n",
      "223.0 132.0 52.0\n",
      "The total overdensity of the group 116\n",
      "1.23186898232\n",
      "Intertia eigenvalues for group number: 116\n",
      "0.0 0.0 0.0\n",
      "spherical top\n",
      "The Center of mass coordinates for group 117\n",
      "224.872729864 144.950562035 114.526536116\n",
      "The total overdensity of the group 117\n",
      "212.511088043\n",
      "Intertia eigenvalues for group number: 117\n",
      "1845.83500352 15143.1028731 15722.4921804\n",
      "asymmetric top\n",
      "The Center of mass coordinates for group 118\n",
      "227.138565958 136.330433151 179.22642199\n",
      "The total overdensity of the group 118\n",
      "151.572905362\n",
      "Intertia eigenvalues for group number: 118\n",
      "1469.98718993 6291.03169805 6844.05770883\n",
      "asymmetric top\n",
      "The Center of mass coordinates for group 119\n",
      "229.0 73.0 73.0\n",
      "The total overdensity of the group 119\n",
      "1.10420379043\n",
      "Intertia eigenvalues for group number: 119\n",
      "0.0 0.0 0.0\n",
      "spherical top\n",
      "The Center of mass coordinates for group 120\n",
      "231.0 90.0 128.0\n",
      "The total overdensity of the group 120\n",
      "1.7983488217\n",
      "Intertia eigenvalues for group number: 120\n",
      "0.0 0.0 0.0\n",
      "spherical top\n",
      "The Center of mass coordinates for group 121\n",
      "240.355769408 227.22619765 68.3368104885\n",
      "The total overdensity of the group 121\n",
      "108.396556534\n",
      "Intertia eigenvalues for group number: 121\n",
      "1014.25492334 6407.67788654 6810.03826033\n",
      "asymmetric top\n",
      "The Center of mass coordinates for group 122\n",
      "243.6467797 75.2518613935 250.315628087\n",
      "The total overdensity of the group 122\n",
      "810.872903221\n",
      "Intertia eigenvalues for group number: 122\n",
      "13095.5562981 76720.2023139 80467.4051017\n",
      "asymmetric top\n",
      "The Center of mass coordinates for group 123\n",
      "243.224727711 14.3715747374 252.260747485\n",
      "The total overdensity of the group 123\n",
      "71.8980753743\n",
      "Intertia eigenvalues for group number: 123\n",
      "237.537049681 1183.95036535 1223.27611044\n",
      "asymmetric top\n",
      "The Center of mass coordinates for group 124\n",
      "244.0 199.0 92.0\n",
      "The total overdensity of the group 124\n",
      "1.57439602166\n",
      "Intertia eigenvalues for group number: 124\n",
      "0.0 0.0 0.0\n",
      "spherical top\n",
      "The Center of mass coordinates for group 125\n",
      "244.346916175 22.4595488326 235.947624789\n",
      "The total overdensity of the group 125\n",
      "107.441016091\n",
      "Intertia eigenvalues for group number: 125\n",
      "363.082470283 1797.69946575 1883.6250099\n",
      "asymmetric top\n",
      "The Center of mass coordinates for group 126\n",
      "241.473121328 139.463052204 98.126536325\n",
      "The total overdensity of the group 126\n",
      "399.106162281\n",
      "Intertia eigenvalues for group number: 126\n",
      "5703.89137662 22769.1719807 24104.5244292\n",
      "asymmetric top\n",
      "The Center of mass coordinates for group 127\n",
      "247.520027021 58.8989227498 7.91102536024\n",
      "The total overdensity of the group 127\n",
      "113.037575491\n",
      "Intertia eigenvalues for group number: 127\n",
      "489.380819782 2059.06001875 2189.76109397\n",
      "asymmetric top\n",
      "The Center of mass coordinates for group 128\n",
      "249.0 159.0 137.623820666\n",
      "The total overdensity of the group 128\n",
      "3.47683006153\n",
      "Intertia eigenvalues for group number: 128\n",
      "0.0 0.530663114822 0.530663114822\n",
      "prolate symmetric top\n"
     ]
    }
   ],
   "source": [
    "inertia_groups = volumes = np.zeros(counter+1)\n",
    "inertia_cases = np.zeros(5)\n",
    "for k in range(counter):\n",
    "    case_k = calcultate_inertia_tensor(k)\n",
    "    if(case_k != -10 ):\n",
    "        inertia_groups[k] = case_k\n",
    "        inertia_cases[case_k] +=1"
   ]
  },
  {
   "cell_type": "code",
   "execution_count": 44,
   "metadata": {
    "collapsed": false
   },
   "outputs": [
    {
     "name": "stdout",
     "output_type": "stream",
     "text": [
      "El case mas ocurrido es: 4 asymmetric top\n",
      "Con numero de ocurrencias: 70.0\n"
     ]
    },
    {
     "data": {
      "image/png": "[encoded data removed]",
      "text/plain": [
       "<matplotlib.figure.Figure at 0x7f9f5bbea710>"
      ]
     },
     "metadata": {},
     "output_type": "display_data"
    }
   ],
   "source": [
    "fig = plt.figure()\n",
    "x_axis = np.arange(0, len(inertia_cases))\n",
    "plt.scatter(x_axis,inertia_cases)\n",
    "plt.title('Occurence \\n of inertia cases for '+str(counter) + ' groups', fontsize=16)\n",
    "plt.xlabel('Inertia Case')\n",
    "plt.ylabel('Occurence of the Case')\n",
    "#plt.savefig(\"inertia_plot_\"+str(counter)+\".png\",format = 'png')\n",
    "#plt.close(fig)\n",
    "most_occured_case = np.argmax(inertia_cases)\n",
    "print \"El case mas ocurrido es:\", most_occured_case, CASES[most_occured_case]\n",
    "print \"Con numero de ocurrencias:\", np.max(inertia_cases)"
   ]
  },
  {
   "cell_type": "code",
   "execution_count": 46,
   "metadata": {
    "collapsed": false
   },
   "outputs": [
    {
     "name": "stdout",
     "output_type": "stream",
     "text": [
      "-------------------------------------------\n",
      "Case Case Number Number of occurences\n",
      "none of the above 0 0.0\n",
      "spherical top 1 46.0\n",
      "oblate symmetric top 2 0.0\n",
      "prolate symmetric top 3 12.0\n",
      "asymmetric top 4 70.0\n"
     ]
    }
   ],
   "source": [
    "print \"-------------------------------------------\"\n",
    "print \"Case\", \"Case Number\", \"Number of occurences\"\n",
    "for i in range (len(inertia_cases)):\n",
    "    print str(CASES[i]), str(i), str(inertia_cases[i])"
   ]
  },
  {
   "cell_type": "markdown",
   "metadata": {},
   "source": [
    "###Plotting\n",
    "<p>Here we make some plots, we will see if in the python script we make them due to the memory issues.</p>"
   ]
  },
  {
   "cell_type": "code",
   "execution_count": 68,
   "metadata": {
    "collapsed": false
   },
   "outputs": [
    {
     "data": {
      "text/plain": [
       "<matplotlib.text.Text at 0x7f4437df1810>"
      ]
     },
     "execution_count": 68,
     "metadata": {},
     "output_type": "execute_result"
    },
    {
     "data": {
      "image/png": "[encoded data removed]",
      "text/plain": [
       "<matplotlib.figure.Figure at 0x7f4437ea9990>"
      ]
     },
     "metadata": {},
     "output_type": "display_data"
    }
   ],
   "source": [
    "fig = plt.figure()\n",
    "binwidth=0.1\n",
    "plt.hist(results_group, bins=np.arange(min(results_group), max(results_group) + binwidth, binwidth))\n",
    "plt.xlabel('Group Number')\n",
    "plt.ylabel('Volume (number of cells)')\n",
    "plt.title('Volume (number of cells) \\n for groups with '+str(counter) + ' groups', fontsize=16)\n",
    "plt.savefig(\"volumes_hist_+\"str(counter)+\".png\",format = 'png')\n",
    "plt.close(fig)"
   ]
  },
  {
   "cell_type": "code",
   "execution_count": 64,
   "metadata": {
    "collapsed": false
   },
   "outputs": [],
   "source": [
    "id_groups = list(set(results_group))\n",
    "id_groups = np.array(id_groups)"
   ]
  },
  {
   "cell_type": "code",
   "execution_count": 65,
   "metadata": {
    "collapsed": false
   },
   "outputs": [],
   "source": [
    "for i in range(n_grid+1):\n",
    "    fig, ax = plt.subplots()\n",
    "    cut = results[i,:,:]\n",
    "    cax = ax.imshow(cut.T)\n",
    "    cbar = fig.colorbar(cax, label='Group Number', ticks=[0.0, np.min(id_groups), 24.0, np.median(id_groups), np.max(id_groups)])\n",
    "    cbar.set_clim(0.0, np.max(id_groups))\n",
    "    plt.title(\"Results for i=\"+str(i))\n",
    "    plt.xlabel(\"j\")\n",
    "    plt.ylabel(\"k\")\n",
    "    plt.savefig(\"regions_\"+str(i)+\".png\",format = 'png')\n",
    "    plt.close(fig)"
   ]
  },
  {
   "cell_type": "code",
   "execution_count": 66,
   "metadata": {
    "collapsed": true
   },
   "outputs": [],
   "source": [
    "from mpl_toolkits.mplot3d import Axes3D"
   ]
  },
  {
   "cell_type": "markdown",
   "metadata": {},
   "source": [
    "All the groups"
   ]
  },
  {
   "cell_type": "code",
   "execution_count": 98,
   "metadata": {
    "collapsed": false
   },
   "outputs": [],
   "source": [
    "fig = plt.figure(figsize=(25, 25))\n",
    "ax = fig.add_subplot(111, projection='3d')\n",
    "ax.scatter(results_x,results_y,results_z,s=2, c=results_group)\n",
    "ax.set_xlim3d(0, n_x)\n",
    "ax.set_ylim3d(0, n_y)\n",
    "ax.set_zlim3d(0, n_z)\n",
    "ax.set_xlabel('i', size=30)\n",
    "ax.set_ylabel('j', size=30)\n",
    "ax.set_zlabel('k', size=30)\n",
    "ax.set_title('Regions obtained at scale with the simulation', size=35)\n",
    "ax.tick_params(axis='both', which='major', labelsize=30)\n",
    "plt.savefig(\"regions_3D_\"+str(counter)+\".png\",format = 'png')\n",
    "plt.close(fig)"
   ]
  },
  {
   "cell_type": "markdown",
   "metadata": {
    "collapsed": true
   },
   "source": [
    "Largest group"
   ]
  },
  {
   "cell_type": "code",
   "execution_count": 79,
   "metadata": {
    "collapsed": false
   },
   "outputs": [],
   "source": [
    "index_largest = where(results_group==largest_group)\n",
    "index_largest = index_largest[0]"
   ]
  },
  {
   "cell_type": "code",
   "execution_count": 77,
   "metadata": {
    "collapsed": false
   },
   "outputs": [],
   "source": [
    "results_x = np.array(results_x)\n",
    "results_y = np.array(results_y)\n",
    "results_z = np.array(results_z)"
   ]
  },
  {
   "cell_type": "code",
   "execution_count": 78,
   "metadata": {
    "collapsed": false
   },
   "outputs": [],
   "source": [
    "x_largest_group = results_x[index_largest]\n",
    "y_largest_group = results_y[index_largest]\n",
    "z_largest_group = results_z[index_largest]"
   ]
  },
  {
   "cell_type": "code",
   "execution_count": 81,
   "metadata": {
    "collapsed": false
   },
   "outputs": [],
   "source": [
    "fig = plt.figure(figsize=(25, 25))\n",
    "ax = fig.add_subplot(111, projection='3d')\n",
    "ax.scatter(x_largest_group,y_largest_group,z_largest_group,s=2)\n",
    "ax.set_xlim3d(0, n_x)\n",
    "ax.set_ylim3d(0, n_y)\n",
    "ax.set_zlim3d(0, n_z)\n",
    "ax.set_xlabel('i', size=30)\n",
    "ax.set_ylabel('j', size=30)\n",
    "ax.set_zlabel('k', size=30)\n",
    "ax.set_title('Largest region (volume: '+str(largest_vol) +' cells) obtained at scale', size=35)\n",
    "ax.tick_params(axis='both', which='major', labelsize=30)\n",
    "plt.savefig(\"largest_vol_\"+str(y_largest_group)+\"_seeds_\"+str(counter)+\"_scale.png\",format = 'png')\n",
    "plt.close(fig)"
   ]
  },
  {
   "cell_type": "code",
   "execution_count": 82,
   "metadata": {
    "collapsed": true
   },
   "outputs": [],
   "source": [
    "x_larg_min = np.min(x_largest_group)\n",
    "x_larg_max = np.max(x_largest_group)\n",
    "y_larg_min = np.min(y_largest_group)\n",
    "y_larg_max = np.max(y_largest_group)\n",
    "z_larg_min = np.min(z_largest_group)\n",
    "z_larg_max = np.max(z_largest_group)"
   ]
  },
  {
   "cell_type": "code",
   "execution_count": 86,
   "metadata": {
    "collapsed": false
   },
   "outputs": [],
   "source": [
    "fig = plt.figure(figsize=(25, 25))\n",
    "ax = fig.add_subplot(111, projection='3d')\n",
    "ax.scatter(x_largest_group,y_largest_group,z_largest_group,s=15)\n",
    "ax.set_xlim3d(x_larg_min, x_larg_max)\n",
    "ax.set_ylim3d(y_larg_min, y_larg_max)\n",
    "ax.set_zlim3d(z_larg_min, z_larg_max)\n",
    "ax.set_xlabel('i', size=30)\n",
    "ax.set_ylabel('j', size=30)\n",
    "ax.set_zlabel('k', size=30)\n",
    "ax.set_title('Largest region (volume: '+str(largest_vol) +' cells) obtained', size=35)\n",
    "ax.tick_params(axis='both', which='major', labelsize=30)\n",
    "plt.savefig(\"largest_vol_\"+str(y_largest_group)+\"_seeds_\"+str(counter)+\".png\",format = 'png')\n",
    "plt.close(fig)"
   ]
  },
  {
   "cell_type": "code",
   "execution_count": null,
   "metadata": {
    "collapsed": true
   },
   "outputs": [],
   "source": []
  }
 ],
 "metadata": {
  "kernelspec": {
   "display_name": "Python 2",
   "language": "python",
   "name": "python2"
  },
  "language_info": {
   "codemirror_mode": {
    "name": "ipython",
    "version": 2
   },
   "file_extension": ".py",
   "mimetype": "text/x-python",
   "name": "python",
   "nbconvert_exporter": "python",
   "pygments_lexer": "ipython2",
   "version": "2.7.6"
  }
 },
 "nbformat": 4,
 "nbformat_minor": 0
}
