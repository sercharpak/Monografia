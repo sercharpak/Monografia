{
 "cells": [
  {
   "cell_type": "code",
   "execution_count": 3,
   "metadata": {
    "collapsed": false
   },
   "outputs": [
    {
     "name": "stdout",
     "output_type": "stream",
     "text": [
      "Populating the interactive namespace from numpy and matplotlib\n"
     ]
    }
   ],
   "source": [
    "%pylab inline\n",
    "import numpy as np\n",
    "import matplotlib.pyplot as plt"
   ]
  },
  {
   "cell_type": "markdown",
   "metadata": {},
   "source": [
    "##Test FA Grid\n",
    "####By Sergio Daniel Hernandez Charpak"
   ]
  },
  {
   "cell_type": "markdown",
   "metadata": {},
   "source": [
    "Notebook to try to interact with the Fractional Anisotropy (FA) grid from by the c file. \n",
    "Here we read the results and plot them."
   ]
  },
  {
   "cell_type": "code",
   "execution_count": 40,
   "metadata": {
    "collapsed": true
   },
   "outputs": [],
   "source": [
    "def writeFirstLine(filename,line):\n",
    "    with open(filename,'r+') as f:\n",
    "        content = f.read()\n",
    "        f.seek(0,0)\n",
    "        f.write(line.rstrip('\\r\\n') + '\\n' + content)\n",
    "def readFirstLine(filename):\n",
    "    with open(filename, 'r') as f:\n",
    "        first_line = f.readline()\n",
    "        return first_line"
   ]
  },
  {
   "cell_type": "code",
   "execution_count": 41,
   "metadata": {
    "collapsed": true
   },
   "outputs": [],
   "source": [
    "inputfolder = '../'\n",
    "inputfile = 'FA_1.dat'"
   ]
  },
  {
   "cell_type": "markdown",
   "metadata": {},
   "source": [
    "First let's read the first line with all the parameters.\n",
    "Its format is:\n",
    "long long* n_nodes, long long* n_total_gen, int* n_x_gen, int* n_y_gen, int* n_z_gen, long long* n_nodes_gen, float* dx_gen, float* dy_gen, float* dz_gen, float* x_0_gen, float* y_0_gen, float* z_0_gen"
   ]
  },
  {
   "cell_type": "code",
   "execution_count": 42,
   "metadata": {
    "collapsed": false
   },
   "outputs": [],
   "source": [
    "firstline = readFirstLine(inputfolder+inputfile)\n",
    "firstline = firstline.strip('\\n')\n",
    "firstline_array = firstline.split(\"\\t\")"
   ]
  },
  {
   "cell_type": "code",
   "execution_count": 43,
   "metadata": {
    "collapsed": false
   },
   "outputs": [],
   "source": [
    "n_nodes = (longlong(firstline_array[0]))\n",
    "n_total = (longlong(firstline_array[1]))\n",
    "n_x = (int(firstline_array[2]))\n",
    "n_y = (int(firstline_array[3]))\n",
    "n_z = (int(firstline_array[4]))\n",
    "dx = (float(firstline_array[5]))\n",
    "dy = (float(firstline_array[6]))\n",
    "dz = (float(firstline_array[7]))\n",
    "x_0 = (float(firstline_array[8]))\n",
    "y_0 = (float(firstline_array[9]))\n",
    "z_0 = (float(firstline_array[10]))"
   ]
  },
  {
   "cell_type": "markdown",
   "metadata": {},
   "source": [
    "Now that we know the general parameters of the file we can proceed to read the rest of the file.\n",
    "First we form the grid."
   ]
  },
  {
   "cell_type": "code",
   "execution_count": 44,
   "metadata": {
    "collapsed": false
   },
   "outputs": [
    {
     "name": "stdout",
     "output_type": "stream",
     "text": [
      "(256, 256, 256)\n"
     ]
    }
   ],
   "source": [
    "grid_FA = np.zeros((n_x,n_y,n_z))\n",
    "print grid_FA.shape"
   ]
  },
  {
   "cell_type": "code",
   "execution_count": 45,
   "metadata": {
    "collapsed": false
   },
   "outputs": [],
   "source": [
    "f = open(inputfolder+inputfile)\n",
    "count =0\n",
    "#firstline again. We ignore it\n",
    "line = f.readline()\n",
    "#now we proceed to reading the rest\n",
    "#each line corresponds to a i,j\n",
    "for i in range (n_x):\n",
    "    line = f.readline()\n",
    "    if (line != '\\n'):\n",
    "        for j in range (n_y): \n",
    "            line = line.strip('\\n')\n",
    "            line_array = line.split(\"\\t\")\n",
    "            for k in range (n_z):\n",
    "                grid_FA[i,j,k] = double(line_array[k])\n",
    "f.close()"
   ]
  },
  {
   "cell_type": "code",
   "execution_count": 46,
   "metadata": {
    "collapsed": false
   },
   "outputs": [
    {
     "name": "stdout",
     "output_type": "stream",
     "text": [
      "inf 0.57735\n"
     ]
    }
   ],
   "source": [
    "max_FA, min_FA = grid_FA.max(), grid_FA.min()\n",
    "print max_FA, min_FA\n",
    "grid_FA"
   ]
  },
  {
   "cell_type": "markdown",
   "metadata": {},
   "source": [
    "##Problem\n",
    "These values are problematic. It seems that the FA isn't normalized.\n",
    "We normalize but it is very likely the error comes from the C code."
   ]
  },
  {
   "cell_type": "code",
   "execution_count": 60,
   "metadata": {
    "collapsed": false
   },
   "outputs": [
    {
     "name": "stderr",
     "output_type": "stream",
     "text": [
      "/usr/local/lib/python2.7/dist-packages/IPython/kernel/__main__.py:1: RuntimeWarning: invalid value encountered in divide\n",
      "  if __name__ == '__main__':\n"
     ]
    }
   ],
   "source": [
    "new_grid_FA = grid_FA/max_FA"
   ]
  },
  {
   "cell_type": "code",
   "execution_count": 61,
   "metadata": {
    "collapsed": false
   },
   "outputs": [
    {
     "name": "stdout",
     "output_type": "stream",
     "text": [
      "nan nan\n"
     ]
    }
   ],
   "source": [
    "new_max_FA, new_min_FA = new_grid_FA.max(), new_grid_FA.min()\n",
    "print new_max_FA, new_min_FA"
   ]
  },
  {
   "cell_type": "code",
   "execution_count": 11,
   "metadata": {
    "collapsed": false
   },
   "outputs": [],
   "source": [
    "new_grid_FA_1D = np.zeros(n_nodes)\n",
    "for i in range (n_x):\n",
    "    for j in range (n_y): \n",
    "        for k in range (n_z):\n",
    "            new_grid_FA_1D[i + n_x * (j + n_y * k)] = new_grid_FA[i,j,k]"
   ]
  },
  {
   "cell_type": "code",
   "execution_count": 47,
   "metadata": {
    "collapsed": true
   },
   "outputs": [],
   "source": [
    "grid_FA_1D = np.zeros(n_nodes)\n",
    "for i in range (n_x):\n",
    "    for j in range (n_y): \n",
    "        for k in range (n_z):\n",
    "            grid_FA_1D[i + n_x * (j + n_y * k)] = grid_FA[i,j,k]"
   ]
  },
  {
   "cell_type": "code",
   "execution_count": 13,
   "metadata": {
    "collapsed": false
   },
   "outputs": [
    {
     "data": {
      "text/plain": [
       "<matplotlib.text.Text at 0x7fd9b38de890>"
      ]
     },
     "execution_count": 13,
     "metadata": {},
     "output_type": "execute_result"
    },
    {
     "data": {
      "image/png": "[encoded data removed]",
      "text/plain": [
       "<matplotlib.figure.Figure at 0x7fd9d3964d90>"
      ]
     },
     "metadata": {},
     "output_type": "display_data"
    }
   ],
   "source": [
    "fig = plt.figure()\n",
    "#binwidth=0.00000001\n",
    "#plt.hist(new_grid_FA_1D, bins=np.arange(new_min_FA, new_max_FA + binwidth, binwidth))\n",
    "plt.hist(new_grid_FA_1D)\n",
    "#plt.xlabel('\n",
    "plt.title('FA Histogram (Normalized)', fontsize=20)\n",
    "#plt.close(fig)"
   ]
  },
  {
   "cell_type": "code",
   "execution_count": 14,
   "metadata": {
    "collapsed": false
   },
   "outputs": [
    {
     "name": "stdout",
     "output_type": "stream",
     "text": [
      "1.0 0.0167493972731\n"
     ]
    }
   ],
   "source": [
    "plt.close(fig)\n",
    "print max(new_grid_FA_1D), min(new_grid_FA_1D)"
   ]
  },
  {
   "cell_type": "code",
   "execution_count": 48,
   "metadata": {
    "collapsed": false
   },
   "outputs": [
    {
     "name": "stderr",
     "output_type": "stream",
     "text": [
      "/home/shernand/.local/lib/python2.7/site-packages/numpy/core/function_base.py:99: RuntimeWarning: invalid value encountered in multiply\n",
      "  y = _nx.arange(0, num, dtype=dtype) * step + start\n",
      "/home/shernand/.local/lib/python2.7/site-packages/numpy/lib/function_base.py:1114: RuntimeWarning: invalid value encountered in subtract\n",
      "  return a[slice1]-a[slice2]\n"
     ]
    },
    {
     "data": {
      "text/plain": [
       "<matplotlib.text.Text at 0x7fd9a0c2cc10>"
      ]
     },
     "execution_count": 48,
     "metadata": {},
     "output_type": "execute_result"
    },
    {
     "data": {
      "image/png": "[encoded data removed]",
      "text/plain": [
       "<matplotlib.figure.Figure at 0x7fd9a0da4090>"
      ]
     },
     "metadata": {},
     "output_type": "display_data"
    }
   ],
   "source": [
    "fig = plt.figure()\n",
    "plt.hist(grid_FA_1D)\n",
    "#plt.xlabel('\n",
    "plt.title('FA Histogram', fontsize=20)\n",
    "#plt.close(fig)"
   ]
  },
  {
   "cell_type": "code",
   "execution_count": 16,
   "metadata": {
    "collapsed": true
   },
   "outputs": [],
   "source": [
    "plt.close(fig)"
   ]
  },
  {
   "cell_type": "code",
   "execution_count": 18,
   "metadata": {
    "collapsed": false
   },
   "outputs": [
    {
     "data": {
      "text/plain": [
       "<matplotlib.text.Text at 0x7fd9b34e6d90>"
      ]
     },
     "execution_count": 18,
     "metadata": {},
     "output_type": "execute_result"
    },
    {
     "data": {
      "image/png": "[encoded data removed]",
      "text/plain": [
       "<matplotlib.figure.Figure at 0x7fd9b36969d0>"
      ]
     },
     "metadata": {},
     "output_type": "display_data"
    }
   ],
   "source": [
    "x = np.linspace(0, n_x, n_x)\n",
    "X, Y = np.meshgrid(x, x)\n",
    "plt.pcolor(X, Y, grid_FA[:,:,0])\n",
    "plt.contourf(X, Y, grid_FA[:,:,40])\n",
    "plt.colorbar()\n",
    "plt.title('FA slice for k=40', fontsize=20)\n",
    "plt.xlabel('i')\n",
    "plt.ylabel('j')"
   ]
  },
  {
   "cell_type": "code",
   "execution_count": 19,
   "metadata": {
    "collapsed": false
   },
   "outputs": [
    {
     "name": "stdout",
     "output_type": "stream",
     "text": [
      "[[[ 0.02584321  0.04953402  0.27977352  0.01794259  0.28629402  0.28848266\n",
      "    0.0168182   0.2876258   0.04482859  0.43382056]\n",
      "  [ 0.02584321  0.04953402  0.27977352  0.01794259  0.28629402  0.28848266\n",
      "    0.0168182   0.2876258   0.04482859  0.43382056]\n",
      "  [ 0.02584321  0.04953402  0.27977352  0.01794259  0.28629402  0.28848266\n",
      "    0.0168182   0.2876258   0.04482859  0.43382056]\n",
      "  [ 0.02584321  0.04953402  0.27977352  0.01794259  0.28629402  0.28848266\n",
      "    0.0168182   0.2876258   0.04482859  0.43382056]\n",
      "  [ 0.02584321  0.04953402  0.27977352  0.01794259  0.28629402  0.28848266\n",
      "    0.0168182   0.2876258   0.04482859  0.43382056]\n",
      "  [ 0.02584321  0.04953402  0.27977352  0.01794259  0.28629402  0.28848266\n",
      "    0.0168182   0.2876258   0.04482859  0.43382056]\n",
      "  [ 0.02584321  0.04953402  0.27977352  0.01794259  0.28629402  0.28848266\n",
      "    0.0168182   0.2876258   0.04482859  0.43382056]\n",
      "  [ 0.02584321  0.04953402  0.27977352  0.01794259  0.28629402  0.28848266\n",
      "    0.0168182   0.2876258   0.04482859  0.43382056]\n",
      "  [ 0.02584321  0.04953402  0.27977352  0.01794259  0.28629402  0.28848266\n",
      "    0.0168182   0.2876258   0.04482859  0.43382056]\n",
      "  [ 0.02584321  0.04953402  0.27977352  0.01794259  0.28629402  0.28848266\n",
      "    0.0168182   0.2876258   0.04482859  0.43382056]]\n",
      "\n",
      " [[ 0.25643723  0.3015451   0.01677358  0.28839521  0.28845242  0.01674981\n",
      "    0.28848851  0.28855791  0.01793215  0.09268815]\n",
      "  [ 0.25643723  0.3015451   0.01677358  0.28839521  0.28845242  0.01674981\n",
      "    0.28848851  0.28855791  0.01793215  0.09268815]\n",
      "  [ 0.25643723  0.3015451   0.01677358  0.28839521  0.28845242  0.01674981\n",
      "    0.28848851  0.28855791  0.01793215  0.09268815]\n",
      "  [ 0.25643723  0.3015451   0.01677358  0.28839521  0.28845242  0.01674981\n",
      "    0.28848851  0.28855791  0.01793215  0.09268815]\n",
      "  [ 0.25643723  0.3015451   0.01677358  0.28839521  0.28845242  0.01674981\n",
      "    0.28848851  0.28855791  0.01793215  0.09268815]\n",
      "  [ 0.25643723  0.3015451   0.01677358  0.28839521  0.28845242  0.01674981\n",
      "    0.28848851  0.28855791  0.01793215  0.09268815]\n",
      "  [ 0.25643723  0.3015451   0.01677358  0.28839521  0.28845242  0.01674981\n",
      "    0.28848851  0.28855791  0.01793215  0.09268815]\n",
      "  [ 0.25643723  0.3015451   0.01677358  0.28839521  0.28845242  0.01674981\n",
      "    0.28848851  0.28855791  0.01793215  0.09268815]\n",
      "  [ 0.25643723  0.3015451   0.01677358  0.28839521  0.28845242  0.01674981\n",
      "    0.28848851  0.28855791  0.01793215  0.09268815]\n",
      "  [ 0.25643723  0.3015451   0.01677358  0.28839521  0.28845242  0.01674981\n",
      "    0.28848851  0.28855791  0.01793215  0.09268815]]\n",
      "\n",
      " [[ 0.01682601  0.07465558  0.2875546   0.44165185  0.01683302  0.28770743\n",
      "    0.2925453   0.01677905  0.03574561  0.03262423]\n",
      "  [ 0.01682601  0.07465558  0.2875546   0.44165185  0.01683302  0.28770743\n",
      "    0.2925453   0.01677905  0.03574561  0.03262423]\n",
      "  [ 0.01682601  0.07465558  0.2875546   0.44165185  0.01683302  0.28770743\n",
      "    0.2925453   0.01677905  0.03574561  0.03262423]\n",
      "  [ 0.01682601  0.07465558  0.2875546   0.44165185  0.01683302  0.28770743\n",
      "    0.2925453   0.01677905  0.03574561  0.03262423]\n",
      "  [ 0.01682601  0.07465558  0.2875546   0.44165185  0.01683302  0.28770743\n",
      "    0.2925453   0.01677905  0.03574561  0.03262423]\n",
      "  [ 0.01682601  0.07465558  0.2875546   0.44165185  0.01683302  0.28770743\n",
      "    0.2925453   0.01677905  0.03574561  0.03262423]\n",
      "  [ 0.01682601  0.07465558  0.2875546   0.44165185  0.01683302  0.28770743\n",
      "    0.2925453   0.01677905  0.03574561  0.03262423]\n",
      "  [ 0.01682601  0.07465558  0.2875546   0.44165185  0.01683302  0.28770743\n",
      "    0.2925453   0.01677905  0.03574561  0.03262423]\n",
      "  [ 0.01682601  0.07465558  0.2875546   0.44165185  0.01683302  0.28770743\n",
      "    0.2925453   0.01677905  0.03574561  0.03262423]\n",
      "  [ 0.01682601  0.07465558  0.2875546   0.44165185  0.01683302  0.28770743\n",
      "    0.2925453   0.01677905  0.03574561  0.03262423]]\n",
      "\n",
      " [[ 0.26351277  0.07852622  0.27533591  0.06904158  0.26991261  0.2903733\n",
      "    0.01883525  0.28851694  0.23175414  0.31288379]\n",
      "  [ 0.26351277  0.07852622  0.27533591  0.06904158  0.26991261  0.2903733\n",
      "    0.01883525  0.28851694  0.23175414  0.31288379]\n",
      "  [ 0.26351277  0.07852622  0.27533591  0.06904158  0.26991261  0.2903733\n",
      "    0.01883525  0.28851694  0.23175414  0.31288379]\n",
      "  [ 0.26351277  0.07852622  0.27533591  0.06904158  0.26991261  0.2903733\n",
      "    0.01883525  0.28851694  0.23175414  0.31288379]\n",
      "  [ 0.26351277  0.07852622  0.27533591  0.06904158  0.26991261  0.2903733\n",
      "    0.01883525  0.28851694  0.23175414  0.31288379]\n",
      "  [ 0.26351277  0.07852622  0.27533591  0.06904158  0.26991261  0.2903733\n",
      "    0.01883525  0.28851694  0.23175414  0.31288379]\n",
      "  [ 0.26351277  0.07852622  0.27533591  0.06904158  0.26991261  0.2903733\n",
      "    0.01883525  0.28851694  0.23175414  0.31288379]\n",
      "  [ 0.26351277  0.07852622  0.27533591  0.06904158  0.26991261  0.2903733\n",
      "    0.01883525  0.28851694  0.23175414  0.31288379]\n",
      "  [ 0.26351277  0.07852622  0.27533591  0.06904158  0.26991261  0.2903733\n",
      "    0.01883525  0.28851694  0.23175414  0.31288379]\n",
      "  [ 0.26351277  0.07852622  0.27533591  0.06904158  0.26991261  0.2903733\n",
      "    0.01883525  0.28851694  0.23175414  0.31288379]]\n",
      "\n",
      " [[ 0.28839658  0.33775399  0.01851731  0.28844442  0.2937564   0.0168058\n",
      "    0.28849038  0.28803432  0.26280371  0.28839769]\n",
      "  [ 0.28839658  0.33775399  0.01851731  0.28844442  0.2937564   0.0168058\n",
      "    0.28849038  0.28803432  0.26280371  0.28839769]\n",
      "  [ 0.28839658  0.33775399  0.01851731  0.28844442  0.2937564   0.0168058\n",
      "    0.28849038  0.28803432  0.26280371  0.28839769]\n",
      "  [ 0.28839658  0.33775399  0.01851731  0.28844442  0.2937564   0.0168058\n",
      "    0.28849038  0.28803432  0.26280371  0.28839769]\n",
      "  [ 0.28839658  0.33775399  0.01851731  0.28844442  0.2937564   0.0168058\n",
      "    0.28849038  0.28803432  0.26280371  0.28839769]\n",
      "  [ 0.28839658  0.33775399  0.01851731  0.28844442  0.2937564   0.0168058\n",
      "    0.28849038  0.28803432  0.26280371  0.28839769]\n",
      "  [ 0.28839658  0.33775399  0.01851731  0.28844442  0.2937564   0.0168058\n",
      "    0.28849038  0.28803432  0.26280371  0.28839769]\n",
      "  [ 0.28839658  0.33775399  0.01851731  0.28844442  0.2937564   0.0168058\n",
      "    0.28849038  0.28803432  0.26280371  0.28839769]\n",
      "  [ 0.28839658  0.33775399  0.01851731  0.28844442  0.2937564   0.0168058\n",
      "    0.28849038  0.28803432  0.26280371  0.28839769]\n",
      "  [ 0.28839658  0.33775399  0.01851731  0.28844442  0.2937564   0.0168058\n",
      "    0.28849038  0.28803432  0.26280371  0.28839769]]\n",
      "\n",
      " [[ 0.01675087  0.02349119  0.28755498  0.03706784  0.01675277  0.28752799\n",
      "    0.51606776  0.01676892  0.04455319  0.016923  ]\n",
      "  [ 0.01675087  0.02349119  0.28755498  0.03706784  0.01675277  0.28752799\n",
      "    0.51606776  0.01676892  0.04455319  0.016923  ]\n",
      "  [ 0.01675087  0.02349119  0.28755498  0.03706784  0.01675277  0.28752799\n",
      "    0.51606776  0.01676892  0.04455319  0.016923  ]\n",
      "  [ 0.01675087  0.02349119  0.28755498  0.03706784  0.01675277  0.28752799\n",
      "    0.51606776  0.01676892  0.04455319  0.016923  ]\n",
      "  [ 0.01675087  0.02349119  0.28755498  0.03706784  0.01675277  0.28752799\n",
      "    0.51606776  0.01676892  0.04455319  0.016923  ]\n",
      "  [ 0.01675087  0.02349119  0.28755498  0.03706784  0.01675277  0.28752799\n",
      "    0.51606776  0.01676892  0.04455319  0.016923  ]\n",
      "  [ 0.01675087  0.02349119  0.28755498  0.03706784  0.01675277  0.28752799\n",
      "    0.51606776  0.01676892  0.04455319  0.016923  ]\n",
      "  [ 0.01675087  0.02349119  0.28755498  0.03706784  0.01675277  0.28752799\n",
      "    0.51606776  0.01676892  0.04455319  0.016923  ]\n",
      "  [ 0.01675087  0.02349119  0.28755498  0.03706784  0.01675277  0.28752799\n",
      "    0.51606776  0.01676892  0.04455319  0.016923  ]\n",
      "  [ 0.01675087  0.02349119  0.28755498  0.03706784  0.01675277  0.28752799\n",
      "    0.51606776  0.01676892  0.04455319  0.016923  ]]\n",
      "\n",
      " [[ 0.28795505  0.15053493  0.14744766  0.43381806  0.26559782  0.28887819\n",
      "    0.05205419  0.28384801  0.50266019  0.30498019]\n",
      "  [ 0.28795505  0.15053493  0.14744766  0.43381806  0.26559782  0.28887819\n",
      "    0.05205419  0.28384801  0.50266019  0.30498019]\n",
      "  [ 0.28795505  0.15053493  0.14744766  0.43381806  0.26559782  0.28887819\n",
      "    0.05205419  0.28384801  0.50266019  0.30498019]\n",
      "  [ 0.28795505  0.15053493  0.14744766  0.43381806  0.26559782  0.28887819\n",
      "    0.05205419  0.28384801  0.50266019  0.30498019]\n",
      "  [ 0.28795505  0.15053493  0.14744766  0.43381806  0.26559782  0.28887819\n",
      "    0.05205419  0.28384801  0.50266019  0.30498019]\n",
      "  [ 0.28795505  0.15053493  0.14744766  0.43381806  0.26559782  0.28887819\n",
      "    0.05205419  0.28384801  0.50266019  0.30498019]\n",
      "  [ 0.28795505  0.15053493  0.14744766  0.43381806  0.26559782  0.28887819\n",
      "    0.05205419  0.28384801  0.50266019  0.30498019]\n",
      "  [ 0.28795505  0.15053493  0.14744766  0.43381806  0.26559782  0.28887819\n",
      "    0.05205419  0.28384801  0.50266019  0.30498019]\n",
      "  [ 0.28795505  0.15053493  0.14744766  0.43381806  0.26559782  0.28887819\n",
      "    0.05205419  0.28384801  0.50266019  0.30498019]\n",
      "  [ 0.28795505  0.15053493  0.14744766  0.43381806  0.26559782  0.28887819\n",
      "    0.05205419  0.28384801  0.50266019  0.30498019]]\n",
      "\n",
      " [[ 0.28848811  0.03134691  0.09327355  0.28848838  0.21802889  0.01776421\n",
      "    0.28849131  0.2773717   0.48917769  0.28848819]\n",
      "  [ 0.28848811  0.03134691  0.09327355  0.28848838  0.21802889  0.01776421\n",
      "    0.28849131  0.2773717   0.48917769  0.28848819]\n",
      "  [ 0.28848811  0.03134691  0.09327355  0.28848838  0.21802889  0.01776421\n",
      "    0.28849131  0.2773717   0.48917769  0.28848819]\n",
      "  [ 0.28848811  0.03134691  0.09327355  0.28848838  0.21802889  0.01776421\n",
      "    0.28849131  0.2773717   0.48917769  0.28848819]\n",
      "  [ 0.28848811  0.03134691  0.09327355  0.28848838  0.21802889  0.01776421\n",
      "    0.28849131  0.2773717   0.48917769  0.28848819]\n",
      "  [ 0.28848811  0.03134691  0.09327355  0.28848838  0.21802889  0.01776421\n",
      "    0.28849131  0.2773717   0.48917769  0.28848819]\n",
      "  [ 0.28848811  0.03134691  0.09327355  0.28848838  0.21802889  0.01776421\n",
      "    0.28849131  0.2773717   0.48917769  0.28848819]\n",
      "  [ 0.28848811  0.03134691  0.09327355  0.28848838  0.21802889  0.01776421\n",
      "    0.28849131  0.2773717   0.48917769  0.28848819]\n",
      "  [ 0.28848811  0.03134691  0.09327355  0.28848838  0.21802889  0.01776421\n",
      "    0.28849131  0.2773717   0.48917769  0.28848819]\n",
      "  [ 0.28848811  0.03134691  0.09327355  0.28848838  0.21802889  0.01776421\n",
      "    0.28849131  0.2773717   0.48917769  0.28848819]]\n",
      "\n",
      " [[ 0.07538546  0.02155949  0.28755485  0.28373744  0.01675315  0.28847581\n",
      "    0.28850358  0.01674951  0.03581902  0.32875874]\n",
      "  [ 0.07538546  0.02155949  0.28755485  0.28373744  0.01675315  0.28847581\n",
      "    0.28850358  0.01674951  0.03581902  0.32875874]\n",
      "  [ 0.07538546  0.02155949  0.28755485  0.28373744  0.01675315  0.28847581\n",
      "    0.28850358  0.01674951  0.03581902  0.32875874]\n",
      "  [ 0.07538546  0.02155949  0.28755485  0.28373744  0.01675315  0.28847581\n",
      "    0.28850358  0.01674951  0.03581902  0.32875874]\n",
      "  [ 0.07538546  0.02155949  0.28755485  0.28373744  0.01675315  0.28847581\n",
      "    0.28850358  0.01674951  0.03581902  0.32875874]\n",
      "  [ 0.07538546  0.02155949  0.28755485  0.28373744  0.01675315  0.28847581\n",
      "    0.28850358  0.01674951  0.03581902  0.32875874]\n",
      "  [ 0.07538546  0.02155949  0.28755485  0.28373744  0.01675315  0.28847581\n",
      "    0.28850358  0.01674951  0.03581902  0.32875874]\n",
      "  [ 0.07538546  0.02155949  0.28755485  0.28373744  0.01675315  0.28847581\n",
      "    0.28850358  0.01674951  0.03581902  0.32875874]\n",
      "  [ 0.07538546  0.02155949  0.28755485  0.28373744  0.01675315  0.28847581\n",
      "    0.28850358  0.01674951  0.03581902  0.32875874]\n",
      "  [ 0.07538546  0.02155949  0.28755485  0.28373744  0.01675315  0.28847581\n",
      "    0.28850358  0.01674951  0.03581902  0.32875874]]\n",
      "\n",
      " [[ 0.45213108  0.14537197  0.19244678  0.02321262  0.27016238  0.28834341\n",
      "    0.01678318  0.28750354  0.30473863  0.01776066]\n",
      "  [ 0.45213108  0.14537197  0.19244678  0.02321262  0.27016238  0.28834341\n",
      "    0.01678318  0.28750354  0.30473863  0.01776066]\n",
      "  [ 0.45213108  0.14537197  0.19244678  0.02321262  0.27016238  0.28834341\n",
      "    0.01678318  0.28750354  0.30473863  0.01776066]\n",
      "  [ 0.45213108  0.14537197  0.19244678  0.02321262  0.27016238  0.28834341\n",
      "    0.01678318  0.28750354  0.30473863  0.01776066]\n",
      "  [ 0.45213108  0.14537197  0.19244678  0.02321262  0.27016238  0.28834341\n",
      "    0.01678318  0.28750354  0.30473863  0.01776066]\n",
      "  [ 0.45213108  0.14537197  0.19244678  0.02321262  0.27016238  0.28834341\n",
      "    0.01678318  0.28750354  0.30473863  0.01776066]\n",
      "  [ 0.45213108  0.14537197  0.19244678  0.02321262  0.27016238  0.28834341\n",
      "    0.01678318  0.28750354  0.30473863  0.01776066]\n",
      "  [ 0.45213108  0.14537197  0.19244678  0.02321262  0.27016238  0.28834341\n",
      "    0.01678318  0.28750354  0.30473863  0.01776066]\n",
      "  [ 0.45213108  0.14537197  0.19244678  0.02321262  0.27016238  0.28834341\n",
      "    0.01678318  0.28750354  0.30473863  0.01776066]\n",
      "  [ 0.45213108  0.14537197  0.19244678  0.02321262  0.27016238  0.28834341\n",
      "    0.01678318  0.28750354  0.30473863  0.01776066]]]\n"
     ]
    }
   ],
   "source": [
    "plt.close(fig)\n",
    "print new_grid_FA[0:10,0:10,0:10]"
   ]
  },
  {
   "cell_type": "markdown",
   "metadata": {},
   "source": [
    "All these results are definitively strange"
   ]
  },
  {
   "cell_type": "markdown",
   "metadata": {},
   "source": [
    "##Test Divergence Grid\n",
    "The divergence corresponds of the sum of the 3 eigen values"
   ]
  },
  {
   "cell_type": "code",
   "execution_count": 62,
   "metadata": {
    "collapsed": true
   },
   "outputs": [],
   "source": [
    "inputfile = 'div_1.dat'"
   ]
  },
  {
   "cell_type": "code",
   "execution_count": 63,
   "metadata": {
    "collapsed": true
   },
   "outputs": [],
   "source": [
    "firstline = readFirstLine(inputfolder+inputfile)\n",
    "firstline = firstline.strip('\\n')\n",
    "firstline_array = firstline.split(\"\\t\")"
   ]
  },
  {
   "cell_type": "code",
   "execution_count": 64,
   "metadata": {
    "collapsed": true
   },
   "outputs": [],
   "source": [
    "n_nodes = (longlong(firstline_array[0]))\n",
    "n_total = (longlong(firstline_array[1]))\n",
    "n_x = (int(firstline_array[2]))\n",
    "n_y = (int(firstline_array[3]))\n",
    "n_z = (int(firstline_array[4]))\n",
    "dx = (float(firstline_array[5]))\n",
    "dy = (float(firstline_array[6]))\n",
    "dz = (float(firstline_array[7]))\n",
    "x_0 = (float(firstline_array[8]))\n",
    "y_0 = (float(firstline_array[9]))\n",
    "z_0 = (float(firstline_array[10]))"
   ]
  },
  {
   "cell_type": "code",
   "execution_count": 65,
   "metadata": {
    "collapsed": false
   },
   "outputs": [
    {
     "name": "stdout",
     "output_type": "stream",
     "text": [
      "(256, 256, 256)\n"
     ]
    }
   ],
   "source": [
    "grid_Div = np.zeros((n_x,n_y,n_z))\n",
    "print grid_Div.shape"
   ]
  },
  {
   "cell_type": "code",
   "execution_count": 66,
   "metadata": {
    "collapsed": true
   },
   "outputs": [],
   "source": [
    "f = open(inputfolder+inputfile)\n",
    "count =0\n",
    "#firstline again. We ignore it\n",
    "line = f.readline()\n",
    "#now we proceed to reading the rest\n",
    "#each line corresponds to a i,j\n",
    "for i in range (n_x):\n",
    "    line = f.readline()\n",
    "    if (line != '\\n'):\n",
    "        for j in range (n_y): \n",
    "            line = line.strip('\\n')\n",
    "            line_array = line.split(\"\\t\")\n",
    "            for k in range (n_z):\n",
    "                grid_Div[i,j,k] = double(line_array[k])\n",
    "f.close()"
   ]
  },
  {
   "cell_type": "code",
   "execution_count": 67,
   "metadata": {
    "collapsed": false
   },
   "outputs": [
    {
     "name": "stdout",
     "output_type": "stream",
     "text": [
      "1.86406266364e+127 -3.66959778558e+106\n"
     ]
    }
   ],
   "source": [
    "max_Div, min_Div = grid_Div.max(), grid_Div.min()\n",
    "print max_Div, min_Div"
   ]
  },
  {
   "cell_type": "markdown",
   "metadata": {},
   "source": [
    "La divergencia parece estar bien. Miremos su histograma y graficas a lo largo de z"
   ]
  },
  {
   "cell_type": "code",
   "execution_count": 55,
   "metadata": {
    "collapsed": true
   },
   "outputs": [],
   "source": [
    "grid_Div_1D = np.zeros(n_nodes)\n",
    "for i in range (n_x):\n",
    "    for j in range (n_y): \n",
    "        for k in range (n_z):\n",
    "            grid_Div_1D[i + n_x * (j + n_y * k)] = grid_Div[i,j,k]"
   ]
  },
  {
   "cell_type": "code",
   "execution_count": 56,
   "metadata": {
    "collapsed": false
   },
   "outputs": [
    {
     "data": {
      "text/plain": [
       "<matplotlib.text.Text at 0x7fd99af17290>"
      ]
     },
     "execution_count": 56,
     "metadata": {},
     "output_type": "execute_result"
    },
    {
     "data": {
      "image/png": "[encoded data removed]",
      "text/plain": [
       "<matplotlib.figure.Figure at 0x7fd992ae5b50>"
      ]
     },
     "metadata": {},
     "output_type": "display_data"
    }
   ],
   "source": [
    "fig = plt.figure()\n",
    "plt.hist(grid_Div_1D)\n",
    "#plt.xlabel('\n",
    "plt.title('Divergence Histogram', fontsize=20)\n",
    "#plt.close(fig)"
   ]
  },
  {
   "cell_type": "code",
   "execution_count": 57,
   "metadata": {
    "collapsed": false
   },
   "outputs": [
    {
     "data": {
      "text/plain": [
       "<matplotlib.text.Text at 0x7fd9a0f5a450>"
      ]
     },
     "execution_count": 57,
     "metadata": {},
     "output_type": "execute_result"
    },
    {
     "data": {
      "image/png": "[encoded data removed]",
      "text/plain": [
       "<matplotlib.figure.Figure at 0x7fd99af11590>"
      ]
     },
     "metadata": {},
     "output_type": "display_data"
    }
   ],
   "source": [
    "x = np.linspace(0, n_x, n_x)\n",
    "X, Y = np.meshgrid(x, x)\n",
    "plt.contourf(X, Y, grid_Div[:,:,40])\n",
    "plt.colorbar()\n",
    "plt.title('Divergence slice for k=40', fontsize=20)\n",
    "plt.xlabel('i')\n",
    "plt.ylabel('j')\n"
   ]
  },
  {
   "cell_type": "code",
   "execution_count": 58,
   "metadata": {
    "collapsed": false
   },
   "outputs": [
    {
     "name": "stdout",
     "output_type": "stream",
     "text": [
      "(256, 256, 256)\n",
      "(256, 256)\n",
      "0.0\n"
     ]
    },
    {
     "data": {
      "text/plain": [
       "<matplotlib.colorbar.Colorbar instance at 0x7fd9a0dac518>"
      ]
     },
     "execution_count": 58,
     "metadata": {},
     "output_type": "execute_result"
    },
    {
     "data": {
      "image/png": "[encoded data removed]",
      "text/plain": [
       "<matplotlib.figure.Figure at 0x7fd9a0c38050>"
      ]
     },
     "metadata": {},
     "output_type": "display_data"
    }
   ],
   "source": [
    "z_test = np.zeros((n_x,n_x))\n",
    "print grid_Div.shape\n",
    "#z_test = np.sum(grid_Div[:,:,120:125],axis=2)\n",
    "print z_test.shape\n",
    "print z_test[0,1]\n",
    "fig = plt.figure()\n",
    "levels=np.linspace(np.min(z_test),np.max(z_test), 10)\n",
    "plt.contourf(X, Y, z_test)\n",
    "plt.colorbar()"
   ]
  },
  {
   "cell_type": "code",
   "execution_count": 59,
   "metadata": {
    "collapsed": false
   },
   "outputs": [
    {
     "data": {
      "text/plain": [
       "<matplotlib.collections.PolyCollection at 0x7fd998ee1450>"
      ]
     },
     "execution_count": 59,
     "metadata": {},
     "output_type": "execute_result"
    },
    {
     "data": {
      "image/png": "[encoded data removed]",
      "text/plain": [
       "<matplotlib.figure.Figure at 0x7fd9a0da4150>"
      ]
     },
     "metadata": {},
     "output_type": "display_data"
    }
   ],
   "source": [
    "plt.pcolor(X, Y, grid_Div[:,:,0])"
   ]
  },
  {
   "cell_type": "code",
   "execution_count": 36,
   "metadata": {
    "collapsed": true
   },
   "outputs": [],
   "source": [
    "n_cuts = 8\n",
    "l_x = n_x\n",
    "l_y = n_y\n",
    "l_z = n_z / n_cuts\n",
    "l_z_old = 0"
   ]
  },
  {
   "cell_type": "code",
   "execution_count": 37,
   "metadata": {
    "collapsed": true
   },
   "outputs": [],
   "source": [
    "x = np.linspace(0, n_x, n_x)\n",
    "X, Y = np.meshgrid(x, x)"
   ]
  },
  {
   "cell_type": "code",
   "execution_count": 38,
   "metadata": {
    "collapsed": false
   },
   "outputs": [
    {
     "data": {
      "image/png": "[encoded data removed]",
      "text/plain": [
       "<matplotlib.figure.Figure at 0x7fd9a1053410>"
      ]
     },
     "metadata": {},
     "output_type": "display_data"
    },
    {
     "data": {
      "image/png": "[encoded data removed]",
      "text/plain": [
       "<matplotlib.figure.Figure at 0x7fd998eccc10>"
      ]
     },
     "metadata": {},
     "output_type": "display_data"
    },
    {
     "data": {
      "image/png": "[encoded data removed]",
      "text/plain": [
       "<matplotlib.figure.Figure at 0x7fd9b12d2b90>"
      ]
     },
     "metadata": {},
     "output_type": "display_data"
    },
    {
     "data": {
      "image/png": "[encoded data removed]",
      "text/plain": [
       "<matplotlib.figure.Figure at 0x7fd9a0ed3cd0>"
      ]
     },
     "metadata": {},
     "output_type": "display_data"
    },
    {
     "data": {
      "image/png": "[encoded data removed]",
      "text/plain": [
       "<matplotlib.figure.Figure at 0x7fd9b1312ad0>"
      ]
     },
     "metadata": {},
     "output_type": "display_data"
    },
    {
     "data": {
      "image/png": "[encoded data removed]",
      "text/plain": [
       "<matplotlib.figure.Figure at 0x7fd992a6cd10>"
      ]
     },
     "metadata": {},
     "output_type": "display_data"
    },
    {
     "data": {
      "image/png": "[encoded data removed]",
      "text/plain": [
       "<matplotlib.figure.Figure at 0x7fd9b11deb10>"
      ]
     },
     "metadata": {},
     "output_type": "display_data"
    },
    {
     "data": {
      "image/png": "[encoded data removed]",
      "text/plain": [
       "<matplotlib.figure.Figure at 0x7fd992aabc50>"
      ]
     },
     "metadata": {},
     "output_type": "display_data"
    }
   ],
   "source": [
    "for i in range(0,n_cuts):\n",
    "    l_z_new=l_z+i*l_z\n",
    "    #new_grid = np.sum(grid_Div[:,:,l_z_old:l_z_new], axis=2)\n",
    "    new_grid = grid_Div[:,:,l_z_old]\n",
    "    fig=plt.figure()\n",
    "    levels=np.linspace(np.min(new_grid),np.max(new_grid), 10)\n",
    "    plt.contourf(X, Y, new_grid)\n",
    "    plt.colorbar()\n",
    "    plt.grid()\n",
    "    plt.title('Divergence slice for k='+str(l_z_old), fontsize=20)\n",
    "    plt.xlabel('i')\n",
    "    plt.ylabel('j')\n",
    "    l_z_old=l_z_new\n",
    "    #plt.close(fig)\n",
    "    "
   ]
  },
  {
   "cell_type": "code",
   "execution_count": 4,
   "metadata": {
    "collapsed": false
   },
   "outputs": [
    {
     "name": "stdout",
     "output_type": "stream",
     "text": [
      "(4, 4) (2, 4, 4)\n"
     ]
    },
    {
     "ename": "NameError",
     "evalue": "name 'FA' is not defined",
     "output_type": "error",
     "traceback": [
      "\u001b[1;31m---------------------------------------------------------------------------\u001b[0m",
      "\u001b[1;31mNameError\u001b[0m                                 Traceback (most recent call last)",
      "\u001b[1;32m<ipython-input-4-c7b528534a92>\u001b[0m in \u001b[0;36m<module>\u001b[1;34m()\u001b[0m\n\u001b[0;32m      2\u001b[0m \u001b[0my_prime\u001b[0m \u001b[1;33m=\u001b[0m \u001b[0mnp\u001b[0m\u001b[1;33m.\u001b[0m\u001b[0mgradient\u001b[0m\u001b[1;33m(\u001b[0m\u001b[0my\u001b[0m\u001b[1;33m)\u001b[0m\u001b[1;33m\u001b[0m\u001b[0m\n\u001b[0;32m      3\u001b[0m \u001b[1;32mprint\u001b[0m \u001b[0mshape\u001b[0m\u001b[1;33m(\u001b[0m\u001b[0my\u001b[0m\u001b[1;33m)\u001b[0m\u001b[1;33m,\u001b[0m \u001b[0mshape\u001b[0m\u001b[1;33m(\u001b[0m\u001b[0my_prime\u001b[0m\u001b[1;33m)\u001b[0m\u001b[1;33m\u001b[0m\u001b[0m\n\u001b[1;32m----> 4\u001b[1;33m \u001b[1;32mprint\u001b[0m \u001b[0mshape\u001b[0m\u001b[1;33m(\u001b[0m\u001b[0mFA\u001b[0m\u001b[1;33m)\u001b[0m\u001b[1;33m\u001b[0m\u001b[0m\n\u001b[0m",
      "\u001b[1;31mNameError\u001b[0m: name 'FA' is not defined"
     ]
    }
   ],
   "source": [
    "y = np.array([[1, 2, 1, 2],[2, 2, 0, 0],[5, 3, 4, 4],[2,1,2,2]])\n",
    "y_prime = np.gradient(y)\n",
    "print shape(y), shape(y_prime)\n",
    "print shape(FA)"
   ]
  },
  {
   "cell_type": "code",
   "execution_count": 5,
   "metadata": {
    "collapsed": false
   },
   "outputs": [
    {
     "name": "stdout",
     "output_type": "stream",
     "text": [
      "[array([[ 1. ,  0. , -1. , -2. ],\n",
      "       [ 2. ,  0.5,  1.5,  1. ],\n",
      "       [ 0. , -0.5,  1. ,  1. ],\n",
      "       [-3. , -2. , -2. , -2. ]]), array([[ 1. ,  0. ,  0. ,  1. ],\n",
      "       [ 0. , -1. , -1. ,  0. ],\n",
      "       [-2. , -0.5,  0.5,  0. ],\n",
      "       [-1. ,  0. ,  0.5,  0. ]])]\n"
     ]
    }
   ],
   "source": [
    "print y_prime"
   ]
  },
  {
   "cell_type": "code",
   "execution_count": 6,
   "metadata": {
    "collapsed": false
   },
   "outputs": [
    {
     "ename": "NameError",
     "evalue": "name 'argrelmin' is not defined",
     "output_type": "error",
     "traceback": [
      "\u001b[1;31m---------------------------------------------------------------------------\u001b[0m",
      "\u001b[1;31mNameError\u001b[0m                                 Traceback (most recent call last)",
      "\u001b[1;32m<ipython-input-6-4fc5c71506fa>\u001b[0m in \u001b[0;36m<module>\u001b[1;34m()\u001b[0m\n\u001b[1;32m----> 1\u001b[1;33m \u001b[0mmins\u001b[0m \u001b[1;33m=\u001b[0m \u001b[0margrelmin\u001b[0m\u001b[1;33m(\u001b[0m\u001b[0my\u001b[0m\u001b[1;33m)\u001b[0m\u001b[1;33m\u001b[0m\u001b[0m\n\u001b[0m\u001b[0;32m      2\u001b[0m \u001b[0mmaxs\u001b[0m \u001b[1;33m=\u001b[0m \u001b[0margrelmax\u001b[0m\u001b[1;33m(\u001b[0m\u001b[0my\u001b[0m\u001b[1;33m)\u001b[0m\u001b[1;33m\u001b[0m\u001b[0m\n\u001b[0;32m      3\u001b[0m \u001b[1;32mprint\u001b[0m \u001b[0mmins\u001b[0m\u001b[1;33m,\u001b[0m \u001b[0mshape\u001b[0m\u001b[1;33m(\u001b[0m\u001b[0mmins\u001b[0m\u001b[1;33m)\u001b[0m\u001b[1;33m\u001b[0m\u001b[0m\n\u001b[0;32m      4\u001b[0m \u001b[1;32mprint\u001b[0m \u001b[0mmaxs\u001b[0m\u001b[1;33m,\u001b[0m \u001b[0mshape\u001b[0m\u001b[1;33m(\u001b[0m\u001b[0mmaxs\u001b[0m\u001b[1;33m)\u001b[0m\u001b[1;33m\u001b[0m\u001b[0m\n\u001b[0;32m      5\u001b[0m \u001b[1;32mprint\u001b[0m \u001b[0mmins\u001b[0m\u001b[1;33m[\u001b[0m\u001b[1;36m0\u001b[0m\u001b[1;33m]\u001b[0m\u001b[1;33m,\u001b[0m \u001b[0my\u001b[0m\u001b[1;33m[\u001b[0m\u001b[0mmins\u001b[0m\u001b[1;33m[\u001b[0m\u001b[1;36m0\u001b[0m\u001b[1;33m]\u001b[0m\u001b[1;33m]\u001b[0m\u001b[1;33m,\u001b[0m \u001b[0my\u001b[0m\u001b[1;33m[\u001b[0m\u001b[1;36m1\u001b[0m\u001b[1;33m,\u001b[0m\u001b[1;36m1\u001b[0m\u001b[1;33m]\u001b[0m\u001b[1;33m\u001b[0m\u001b[0m\n",
      "\u001b[1;31mNameError\u001b[0m: name 'argrelmin' is not defined"
     ]
    }
   ],
   "source": [
    "mins = argrelmin(y)\n",
    "maxs = argrelmax(y)\n",
    "print mins, shape(mins)\n",
    "print maxs, shape(maxs)\n",
    "print mins[0], y[mins[0]], y[1,1]"
   ]
  },
  {
   "cell_type": "code",
   "execution_count": 7,
   "metadata": {
    "collapsed": true
   },
   "outputs": [],
   "source": [
    "import scipy.ndimage.filters as filters\n",
    "import scipy.ndimage.morphology as morphology\n",
    "\n",
    "#Taken from http://stackoverflow.com/questions/3986345/how-to-find-the-local-minima-of-a-smooth-multidimensional-array-in-numpy-efficie \n",
    "def detect_local_minima(arr):\n",
    "    # http://stackoverflow.com/questions/3684484/peak-detection-in-a-2d-array/3689710#3689710\n",
    "    \"\"\"\n",
    "    Takes an array and detects the troughs using the local maximum filter.\n",
    "    Returns a boolean mask of the troughs (i.e. 1 when\n",
    "    the pixel's value is the neighborhood maximum, 0 otherwise)\n",
    "    \"\"\"\n",
    "    # define an connected neighborhood\n",
    "    # http://www.scipy.org/doc/api_docs/SciPy.ndimage.morphology.html#generate_binary_structure\n",
    "    neighborhood = morphology.generate_binary_structure(len(arr.shape),2)\n",
    "    # apply the local minimum filter; all locations of minimum value \n",
    "    # in their neighborhood are set to 1\n",
    "    # http://www.scipy.org/doc/api_docs/SciPy.ndimage.filters.html#minimum_filter\n",
    "    local_min = (filters.minimum_filter(arr, footprint=neighborhood)==arr)\n",
    "    # local_min is a mask that contains the peaks we are \n",
    "    # looking for, but also the background.\n",
    "    # In order to isolate the peaks we must remove the background from the mask.\n",
    "    # \n",
    "    # we create the mask of the background\n",
    "    background = (arr==0)\n",
    "    # \n",
    "    # a little technicality: we must erode the background in order to \n",
    "    # successfully subtract it from local_min, otherwise a line will \n",
    "    # appear along the background border (artifact of the local minimum filter)\n",
    "    # http://www.scipy.org/doc/api_docs/SciPy.ndimage.morphology.html#binary_erosion\n",
    "    eroded_background = morphology.binary_erosion(\n",
    "        background, structure=neighborhood, border_value=1)\n",
    "    # \n",
    "    # we obtain the final mask, containing only peaks, \n",
    "    # by removing the background from the local_min mask\n",
    "    detected_minima = local_min - eroded_background\n",
    "    return np.where(detected_minima)  \n",
    "\n",
    "def detect_local_maxima(arr):\n",
    "    # http://stackoverflow.com/questions/3684484/peak-detection-in-a-2d-array/3689710#3689710\n",
    "    \"\"\"\n",
    "    Takes an array and detects the troughs using the local maximum filter.\n",
    "    Returns a boolean mask of the troughs (i.e. 1 when\n",
    "    the pixel's value is the neighborhood maximum, 0 otherwise)\n",
    "    \"\"\"\n",
    "    # define an connected neighborhood\n",
    "    # http://www.scipy.org/doc/api_docs/SciPy.ndimage.morphology.html#generate_binary_structure\n",
    "    neighborhood = morphology.generate_binary_structure(len(arr.shape),2)\n",
    "    # apply the local minimum filter; all locations of minimum value \n",
    "    # in their neighborhood are set to 1\n",
    "    # http://www.scipy.org/doc/api_docs/SciPy.ndimage.filters.html#minimum_filter\n",
    "    local_min = (filters.maximum_filter(arr, footprint=neighborhood)==arr)\n",
    "    # local_min is a mask that contains the peaks we are \n",
    "    # looking for, but also the background.\n",
    "    # In order to isolate the peaks we must remove the background from the mask.\n",
    "    # \n",
    "    # we create the mask of the background\n",
    "    background = (arr==0)\n",
    "    # \n",
    "    # a little technicality: we must erode the background in order to \n",
    "    # successfully subtract it from local_min, otherwise a line will \n",
    "    # appear along the background border (artifact of the local minimum filter)\n",
    "    # http://www.scipy.org/doc/api_docs/SciPy.ndimage.morphology.html#binary_erosion\n",
    "    eroded_background = morphology.binary_erosion(\n",
    "        background, structure=neighborhood, border_value=1)\n",
    "    # \n",
    "    # we obtain the final mask, containing only peaks, \n",
    "    # by removing the background from the local_min mask\n",
    "    detected_maxima = local_min - eroded_background\n",
    "    return np.where(detected_maxima)  "
   ]
  },
  {
   "cell_type": "markdown",
   "metadata": {},
   "source": [
    "\\begin{bmatrix}\n",
    "    1 & 2 & 1 & 2 \\\\\n",
    "    2 & 2 & 0 & 0 \\\\\n",
    "    5 & 3 & 4 & 4 \\\\\n",
    "    2 & 2 & 2 & 2 \\\\\n",
    "\\end{bmatrix}"
   ]
  },
  {
   "cell_type": "code",
   "execution_count": 8,
   "metadata": {
    "collapsed": false
   },
   "outputs": [
    {
     "ename": "NameError",
     "evalue": "name 'FA' is not defined",
     "output_type": "error",
     "traceback": [
      "\u001b[1;31m---------------------------------------------------------------------------\u001b[0m",
      "\u001b[1;31mNameError\u001b[0m                                 Traceback (most recent call last)",
      "\u001b[1;32m<ipython-input-8-a92512e54817>\u001b[0m in \u001b[0;36m<module>\u001b[1;34m()\u001b[0m\n\u001b[1;32m----> 1\u001b[1;33m \u001b[0mminimums\u001b[0m \u001b[1;33m=\u001b[0m \u001b[0mdetect_local_minima\u001b[0m\u001b[1;33m(\u001b[0m\u001b[0mFA\u001b[0m\u001b[1;33m)\u001b[0m\u001b[1;33m\u001b[0m\u001b[0m\n\u001b[0m\u001b[0;32m      2\u001b[0m \u001b[1;32mprint\u001b[0m \u001b[0mminimums\u001b[0m\u001b[1;33m\u001b[0m\u001b[0m\n\u001b[0;32m      3\u001b[0m \u001b[1;32mprint\u001b[0m \u001b[0mFA\u001b[0m\u001b[1;33m[\u001b[0m\u001b[0mminimums\u001b[0m\u001b[1;33m]\u001b[0m\u001b[1;33m\u001b[0m\u001b[0m\n",
      "\u001b[1;31mNameError\u001b[0m: name 'FA' is not defined"
     ]
    }
   ],
   "source": [
    "minimums = detect_local_minima(FA)\n",
    "print minimums\n",
    "print FA[minimums]"
   ]
  },
  {
   "cell_type": "code",
   "execution_count": null,
   "metadata": {
    "collapsed": true
   },
   "outputs": [],
   "source": []
  }
 ],
 "metadata": {
  "kernelspec": {
   "display_name": "Python 2",
   "language": "python",
   "name": "python2"
  },
  "language_info": {
   "codemirror_mode": {
    "name": "ipython",
    "version": 2
   },
   "file_extension": ".py",
   "mimetype": "text/x-python",
   "name": "python",
   "nbconvert_exporter": "python",
   "pygments_lexer": "ipython2",
   "version": "2.7.6"
  }
 },
 "nbformat": 4,
 "nbformat_minor": 0
}
