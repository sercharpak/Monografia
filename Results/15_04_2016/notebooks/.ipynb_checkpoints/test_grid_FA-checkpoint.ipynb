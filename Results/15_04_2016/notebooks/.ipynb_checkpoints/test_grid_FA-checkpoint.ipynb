{
 "cells": [
  {
   "cell_type": "code",
   "execution_count": 1,
   "metadata": {
    "collapsed": false
   },
   "outputs": [
    {
     "name": "stdout",
     "output_type": "stream",
     "text": [
      "Populating the interactive namespace from numpy and matplotlib\n"
     ]
    }
   ],
   "source": [
    "%pylab inline\n",
    "import numpy as np\n",
    "import matplotlib.pyplot as plt"
   ]
  },
  {
   "cell_type": "markdown",
   "metadata": {},
   "source": [
    "##Test FA Grid\n",
    "####By Sergio Daniel Hernandez Charpak"
   ]
  },
  {
   "cell_type": "markdown",
   "metadata": {},
   "source": [
    "Notebook to try to interact with the Fractional Anisotropy (FA) grid from by the c file. \n",
    "Here we read the results and plot them."
   ]
  },
  {
   "cell_type": "code",
   "execution_count": 2,
   "metadata": {
    "collapsed": true
   },
   "outputs": [],
   "source": [
    "def writeFirstLine(filename,line):\n",
    "    with open(filename,'r+') as f:\n",
    "        content = f.read()\n",
    "        f.seek(0,0)\n",
    "        f.write(line.rstrip('\\r\\n') + '\\n' + content)\n",
    "def readFirstLine(filename):\n",
    "    with open(filename, 'r') as f:\n",
    "        first_line = f.readline()\n",
    "        return first_line"
   ]
  },
  {
   "cell_type": "code",
   "execution_count": 3,
   "metadata": {
    "collapsed": true
   },
   "outputs": [],
   "source": [
    "inputfolder = '../'\n",
    "inputfile = 'test_1.dat'"
   ]
  },
  {
   "cell_type": "markdown",
   "metadata": {},
   "source": [
    "First let's read the first line with all the parameters.\n",
    "Its format is:\n",
    "long long* n_nodes, long long* n_total_gen, int* n_x_gen, int* n_y_gen, int* n_z_gen, long long* n_nodes_gen, float* dx_gen, float* dy_gen, float* dz_gen, float* x_0_gen, float* y_0_gen, float* z_0_gen"
   ]
  },
  {
   "cell_type": "code",
   "execution_count": 4,
   "metadata": {
    "collapsed": true
   },
   "outputs": [],
   "source": [
    "firstline = readFirstLine(inputfolder+inputfile)\n",
    "firstline = firstline.strip('\\n')\n",
    "firstline_array = firstline.split(\"\\t\")"
   ]
  },
  {
   "cell_type": "code",
   "execution_count": 5,
   "metadata": {
    "collapsed": false
   },
   "outputs": [],
   "source": [
    "n_nodes = (longlong(firstline_array[0]))\n",
    "n_total = (longlong(firstline_array[1]))\n",
    "n_x = (int(firstline_array[2]))\n",
    "n_y = (int(firstline_array[3]))\n",
    "n_z = (int(firstline_array[4]))\n",
    "dx = (float(firstline_array[5]))\n",
    "dy = (float(firstline_array[6]))\n",
    "dz = (float(firstline_array[7]))\n",
    "x_0 = (float(firstline_array[8]))\n",
    "y_0 = (float(firstline_array[9]))\n",
    "z_0 = (float(firstline_array[10]))"
   ]
  },
  {
   "cell_type": "markdown",
   "metadata": {},
   "source": [
    "Now that we know the general parameters of the file we can proceed to read the rest of the file.\n",
    "First we form the grid."
   ]
  },
  {
   "cell_type": "code",
   "execution_count": 6,
   "metadata": {
    "collapsed": false
   },
   "outputs": [
    {
     "name": "stdout",
     "output_type": "stream",
     "text": [
      "(256, 256, 256)\n"
     ]
    }
   ],
   "source": [
    "grid_FA = np.zeros((n_x,n_y,n_z))\n",
    "print grid_FA.shape"
   ]
  },
  {
   "cell_type": "code",
   "execution_count": 7,
   "metadata": {
    "collapsed": false
   },
   "outputs": [],
   "source": [
    "f = open(inputfolder+inputfile)\n",
    "count =0\n",
    "#firstline again. We ignore it\n",
    "line = f.readline()\n",
    "#now we proceed to reading the rest\n",
    "#each line corresponds to a i,j\n",
    "for i in range (n_x):\n",
    "    line = f.readline()\n",
    "    if (line != '\\n'):\n",
    "        for j in range (n_y): \n",
    "            line = line.strip('\\n')\n",
    "            line_array = line.split(\"\\t\")\n",
    "            for k in range (n_z):\n",
    "                grid_FA[i,j,k] = float(line_array[k])\n",
    "f.close()"
   ]
  },
  {
   "cell_type": "code",
   "execution_count": 8,
   "metadata": {
    "collapsed": false
   },
   "outputs": [
    {
     "name": "stdout",
     "output_type": "stream",
     "text": [
      "9686922.0 9686921.0\n"
     ]
    }
   ],
   "source": [
    "max_FA, min_FA = grid_FA.max(), grid_FA.min()\n",
    "print max_FA, min_FA"
   ]
  },
  {
   "cell_type": "markdown",
   "metadata": {},
   "source": [
    "##Problem\n",
    "These values are problematic. It seems that the FA isn't normalized.\n",
    "We normalize but it is very likely the error comes from the C code."
   ]
  },
  {
   "cell_type": "code",
   "execution_count": 9,
   "metadata": {
    "collapsed": true
   },
   "outputs": [],
   "source": [
    "new_grid_FA = grid_FA/max_FA"
   ]
  },
  {
   "cell_type": "code",
   "execution_count": 10,
   "metadata": {
    "collapsed": false
   },
   "outputs": [
    {
     "name": "stdout",
     "output_type": "stream",
     "text": [
      "1.0 0.999999896768\n"
     ]
    }
   ],
   "source": [
    "new_max_FA, new_min_FA = new_grid_FA.max(), new_grid_FA.min()\n",
    "print new_max_FA, new_min_FA"
   ]
  },
  {
   "cell_type": "code",
   "execution_count": 15,
   "metadata": {
    "collapsed": false
   },
   "outputs": [],
   "source": [
    "new_grid_FA_1D = np.zeros(n_nodes)\n",
    "for i in range (n_x):\n",
    "    for j in range (n_y): \n",
    "        for k in range (n_z):\n",
    "            new_grid_FA_1D[i + n_x * (j + n_y * k)] = new_grid_FA[i,j,k]"
   ]
  },
  {
   "cell_type": "code",
   "execution_count": 16,
   "metadata": {
    "collapsed": true
   },
   "outputs": [],
   "source": [
    "grid_FA_1D = np.zeros(n_nodes)\n",
    "for i in range (n_x):\n",
    "    for j in range (n_y): \n",
    "        for k in range (n_z):\n",
    "            grid_FA_1D[i + n_x * (j + n_y * k)] = grid_FA[i,j,k]"
   ]
  },
  {
   "cell_type": "code",
   "execution_count": 17,
   "metadata": {
    "collapsed": false
   },
   "outputs": [
    {
     "data": {
      "text/plain": [
       "<matplotlib.text.Text at 0x7f6df7f5a990>"
      ]
     },
     "execution_count": 17,
     "metadata": {},
     "output_type": "execute_result"
    },
    {
     "data": {
      "image/png": "[encoded data removed]",
      "text/plain": [
       "<matplotlib.figure.Figure at 0x7f6e340fd350>"
      ]
     },
     "metadata": {},
     "output_type": "display_data"
    }
   ],
   "source": [
    "fig = plt.figure()\n",
    "binwidth=0.00000001\n",
    "plt.hist(new_grid_FA_1D, bins=np.arange(new_min_FA, new_max_FA + binwidth, binwidth))\n",
    "#plt.xlabel('\n",
    "plt.title('FA Histogram (Normalized)', fontsize=20)\n",
    "#plt.close(fig)"
   ]
  },
  {
   "cell_type": "code",
   "execution_count": 18,
   "metadata": {
    "collapsed": false
   },
   "outputs": [
    {
     "name": "stdout",
     "output_type": "stream",
     "text": [
      "1.0 0.999999896768\n"
     ]
    }
   ],
   "source": [
    "plt.close(fig)\n",
    "print max(new_grid_FA_1D), min(new_grid_FA_1D)"
   ]
  },
  {
   "cell_type": "code",
   "execution_count": 19,
   "metadata": {
    "collapsed": false
   },
   "outputs": [
    {
     "data": {
      "text/plain": [
       "<matplotlib.text.Text at 0x7f6e1d945fd0>"
      ]
     },
     "execution_count": 19,
     "metadata": {},
     "output_type": "execute_result"
    },
    {
     "data": {
      "image/png": "[encoded data removed]",
      "text/plain": [
       "<matplotlib.figure.Figure at 0x7f6e1d9159d0>"
      ]
     },
     "metadata": {},
     "output_type": "display_data"
    }
   ],
   "source": [
    "fig = plt.figure()\n",
    "plt.hist(grid_FA_1D)\n",
    "#plt.xlabel('\n",
    "plt.title('FA Histogram', fontsize=20)\n",
    "#plt.close(fig)"
   ]
  },
  {
   "cell_type": "code",
   "execution_count": 20,
   "metadata": {
    "collapsed": true
   },
   "outputs": [],
   "source": [
    "plt.close(fig)"
   ]
  },
  {
   "cell_type": "markdown",
   "metadata": {},
   "source": [
    "We seem to have two extremes in the calculation of the FA. We definitely need to make sure the C file is correct."
   ]
  }
 ],
 "metadata": {
  "kernelspec": {
   "display_name": "Python 2",
   "language": "python",
   "name": "python2"
  },
  "language_info": {
   "codemirror_mode": {
    "name": "ipython",
    "version": 2
   },
   "file_extension": ".py",
   "mimetype": "text/x-python",
   "name": "python",
   "nbconvert_exporter": "python",
   "pygments_lexer": "ipython2",
   "version": "2.7.6"
  }
 },
 "nbformat": 4,
 "nbformat_minor": 0
}
